{
 "cells": [
  {
   "cell_type": "markdown",
   "id": "eb191fbb-55a7-4c56-93e4-6eb8e86faa89",
   "metadata": {
    "id": "eb191fbb-55a7-4c56-93e4-6eb8e86faa89"
   },
   "source": [
    "# Predicción de Precios en bolsa MSCI\n",
    "\n",
    "El objetivo de este proyecto es desarrollar un modelo basado en redes neuronales recurrentes (LSTM) para predecir los precios futuros de acciones, en este caso MSCI World, utilizando los datos del histórico de mercado en apertura, cierre, máximo y mínimo.\n",
    "\n",
    "Con este proyecto se prodía ayudar en la toma de decisiones de inversión y análisis.\n",
    "\n",
    "A continuación vamos a instalar las librerías necesarias para nuestro proyecto\n"
   ]
  },
  {
   "cell_type": "code",
   "execution_count": null,
   "id": "8e340989-bdee-49c7-ae4a-a7e36ad225bd",
   "metadata": {
    "colab": {
     "background_save": true,
     "base_uri": "https://localhost:8080/"
    },
    "executionInfo": {
     "elapsed": 116082,
     "status": "ok",
     "timestamp": 1749574591772,
     "user": {
      "displayName": "Javi Luque",
      "userId": "04690238348256980555"
     },
     "user_tz": -120
    },
    "id": "8e340989-bdee-49c7-ae4a-a7e36ad225bd",
    "outputId": "da9f708a-7936-4f39-a96b-7b58bcdcee0c"
   },
   "outputs": [
    {
     "name": "stdout",
     "output_type": "stream",
     "text": [
      "Requirement already satisfied: torch in /usr/local/lib/python3.11/dist-packages (2.6.0+cu124)\n",
      "Requirement already satisfied: filelock in /usr/local/lib/python3.11/dist-packages (from torch) (3.18.0)\n",
      "Requirement already satisfied: typing-extensions>=4.10.0 in /usr/local/lib/python3.11/dist-packages (from torch) (4.14.0)\n",
      "Requirement already satisfied: networkx in /usr/local/lib/python3.11/dist-packages (from torch) (3.5)\n",
      "Requirement already satisfied: jinja2 in /usr/local/lib/python3.11/dist-packages (from torch) (3.1.6)\n",
      "Requirement already satisfied: fsspec in /usr/local/lib/python3.11/dist-packages (from torch) (2025.3.2)\n",
      "Collecting nvidia-cuda-nvrtc-cu12==12.4.127 (from torch)\n",
      "  Downloading nvidia_cuda_nvrtc_cu12-12.4.127-py3-none-manylinux2014_x86_64.whl.metadata (1.5 kB)\n",
      "Collecting nvidia-cuda-runtime-cu12==12.4.127 (from torch)\n",
      "  Downloading nvidia_cuda_runtime_cu12-12.4.127-py3-none-manylinux2014_x86_64.whl.metadata (1.5 kB)\n",
      "Collecting nvidia-cuda-cupti-cu12==12.4.127 (from torch)\n",
      "  Downloading nvidia_cuda_cupti_cu12-12.4.127-py3-none-manylinux2014_x86_64.whl.metadata (1.6 kB)\n",
      "Collecting nvidia-cudnn-cu12==9.1.0.70 (from torch)\n",
      "  Downloading nvidia_cudnn_cu12-9.1.0.70-py3-none-manylinux2014_x86_64.whl.metadata (1.6 kB)\n",
      "Collecting nvidia-cublas-cu12==12.4.5.8 (from torch)\n",
      "  Downloading nvidia_cublas_cu12-12.4.5.8-py3-none-manylinux2014_x86_64.whl.metadata (1.5 kB)\n",
      "Collecting nvidia-cufft-cu12==11.2.1.3 (from torch)\n",
      "  Downloading nvidia_cufft_cu12-11.2.1.3-py3-none-manylinux2014_x86_64.whl.metadata (1.5 kB)\n",
      "Collecting nvidia-curand-cu12==10.3.5.147 (from torch)\n",
      "  Downloading nvidia_curand_cu12-10.3.5.147-py3-none-manylinux2014_x86_64.whl.metadata (1.5 kB)\n",
      "Collecting nvidia-cusolver-cu12==11.6.1.9 (from torch)\n",
      "  Downloading nvidia_cusolver_cu12-11.6.1.9-py3-none-manylinux2014_x86_64.whl.metadata (1.6 kB)\n",
      "Collecting nvidia-cusparse-cu12==12.3.1.170 (from torch)\n",
      "  Downloading nvidia_cusparse_cu12-12.3.1.170-py3-none-manylinux2014_x86_64.whl.metadata (1.6 kB)\n",
      "Requirement already satisfied: nvidia-cusparselt-cu12==0.6.2 in /usr/local/lib/python3.11/dist-packages (from torch) (0.6.2)\n",
      "Requirement already satisfied: nvidia-nccl-cu12==2.21.5 in /usr/local/lib/python3.11/dist-packages (from torch) (2.21.5)\n",
      "Requirement already satisfied: nvidia-nvtx-cu12==12.4.127 in /usr/local/lib/python3.11/dist-packages (from torch) (12.4.127)\n",
      "Collecting nvidia-nvjitlink-cu12==12.4.127 (from torch)\n",
      "  Downloading nvidia_nvjitlink_cu12-12.4.127-py3-none-manylinux2014_x86_64.whl.metadata (1.5 kB)\n",
      "Requirement already satisfied: triton==3.2.0 in /usr/local/lib/python3.11/dist-packages (from torch) (3.2.0)\n",
      "Requirement already satisfied: sympy==1.13.1 in /usr/local/lib/python3.11/dist-packages (from torch) (1.13.1)\n",
      "Requirement already satisfied: mpmath<1.4,>=1.1.0 in /usr/local/lib/python3.11/dist-packages (from sympy==1.13.1->torch) (1.3.0)\n",
      "Requirement already satisfied: MarkupSafe>=2.0 in /usr/local/lib/python3.11/dist-packages (from jinja2->torch) (3.0.2)\n",
      "Downloading nvidia_cublas_cu12-12.4.5.8-py3-none-manylinux2014_x86_64.whl (363.4 MB)\n",
      "\u001b[2K   \u001b[90m━━━━━━━━━━━━━━━━━━━━━━━━━━━━━━━━━━━━━━━━\u001b[0m \u001b[32m363.4/363.4 MB\u001b[0m \u001b[31m4.4 MB/s\u001b[0m eta \u001b[36m0:00:00\u001b[0m\n",
      "\u001b[?25hDownloading nvidia_cuda_cupti_cu12-12.4.127-py3-none-manylinux2014_x86_64.whl (13.8 MB)\n",
      "\u001b[2K   \u001b[90m━━━━━━━━━━━━━━━━━━━━━━━━━━━━━━━━━━━━━━━━\u001b[0m \u001b[32m13.8/13.8 MB\u001b[0m \u001b[31m88.6 MB/s\u001b[0m eta \u001b[36m0:00:00\u001b[0m\n",
      "\u001b[?25hDownloading nvidia_cuda_nvrtc_cu12-12.4.127-py3-none-manylinux2014_x86_64.whl (24.6 MB)\n",
      "\u001b[2K   \u001b[90m━━━━━━━━━━━━━━━━━━━━━━━━━━━━━━━━━━━━━━━━\u001b[0m \u001b[32m24.6/24.6 MB\u001b[0m \u001b[31m75.9 MB/s\u001b[0m eta \u001b[36m0:00:00\u001b[0m\n",
      "\u001b[?25hDownloading nvidia_cuda_runtime_cu12-12.4.127-py3-none-manylinux2014_x86_64.whl (883 kB)\n",
      "\u001b[2K   \u001b[90m━━━━━━━━━━━━━━━━━━━━━━━━━━━━━━━━━━━━━━━━\u001b[0m \u001b[32m883.7/883.7 kB\u001b[0m \u001b[31m39.8 MB/s\u001b[0m eta \u001b[36m0:00:00\u001b[0m\n",
      "\u001b[?25hDownloading nvidia_cudnn_cu12-9.1.0.70-py3-none-manylinux2014_x86_64.whl (664.8 MB)\n",
      "\u001b[2K   \u001b[90m━━━━━━━━━━━━━━━━━━━━━━━━━━━━━━━━━━━━━━━━\u001b[0m \u001b[32m664.8/664.8 MB\u001b[0m \u001b[31m2.9 MB/s\u001b[0m eta \u001b[36m0:00:00\u001b[0m\n",
      "\u001b[?25hDownloading nvidia_cufft_cu12-11.2.1.3-py3-none-manylinux2014_x86_64.whl (211.5 MB)\n",
      "\u001b[2K   \u001b[90m━━━━━━━━━━━━━━━━━━━━━━━━━━━━━━━━━━━━━━━━\u001b[0m \u001b[32m211.5/211.5 MB\u001b[0m \u001b[31m6.1 MB/s\u001b[0m eta \u001b[36m0:00:00\u001b[0m\n",
      "\u001b[?25hDownloading nvidia_curand_cu12-10.3.5.147-py3-none-manylinux2014_x86_64.whl (56.3 MB)\n",
      "\u001b[2K   \u001b[90m━━━━━━━━━━━━━━━━━━━━━━━━━━━━━━━━━━━━━━━━\u001b[0m \u001b[32m56.3/56.3 MB\u001b[0m \u001b[31m11.6 MB/s\u001b[0m eta \u001b[36m0:00:00\u001b[0m\n",
      "\u001b[?25hDownloading nvidia_cusolver_cu12-11.6.1.9-py3-none-manylinux2014_x86_64.whl (127.9 MB)\n",
      "\u001b[2K   \u001b[90m━━━━━━━━━━━━━━━━━━━━━━━━━━━━━━━━━━━━━━━━\u001b[0m \u001b[32m127.9/127.9 MB\u001b[0m \u001b[31m7.4 MB/s\u001b[0m eta \u001b[36m0:00:00\u001b[0m\n",
      "\u001b[?25hDownloading nvidia_cusparse_cu12-12.3.1.170-py3-none-manylinux2014_x86_64.whl (207.5 MB)\n",
      "\u001b[2K   \u001b[90m━━━━━━━━━━━━━━━━━━━━━━━━━━━━━━━━━━━━━━━━\u001b[0m \u001b[32m207.5/207.5 MB\u001b[0m \u001b[31m6.2 MB/s\u001b[0m eta \u001b[36m0:00:00\u001b[0m\n",
      "\u001b[?25hDownloading nvidia_nvjitlink_cu12-12.4.127-py3-none-manylinux2014_x86_64.whl (21.1 MB)\n",
      "\u001b[2K   \u001b[90m━━━━━━━━━━━━━━━━━━━━━━━━━━━━━━━━━━━━━━━━\u001b[0m \u001b[32m21.1/21.1 MB\u001b[0m \u001b[31m79.8 MB/s\u001b[0m eta \u001b[36m0:00:00\u001b[0m\n",
      "\u001b[?25hInstalling collected packages: nvidia-nvjitlink-cu12, nvidia-curand-cu12, nvidia-cufft-cu12, nvidia-cuda-runtime-cu12, nvidia-cuda-nvrtc-cu12, nvidia-cuda-cupti-cu12, nvidia-cublas-cu12, nvidia-cusparse-cu12, nvidia-cudnn-cu12, nvidia-cusolver-cu12\n",
      "  Attempting uninstall: nvidia-nvjitlink-cu12\n",
      "    Found existing installation: nvidia-nvjitlink-cu12 12.5.82\n",
      "    Uninstalling nvidia-nvjitlink-cu12-12.5.82:\n",
      "      Successfully uninstalled nvidia-nvjitlink-cu12-12.5.82\n",
      "  Attempting uninstall: nvidia-curand-cu12\n",
      "    Found existing installation: nvidia-curand-cu12 10.3.6.82\n",
      "    Uninstalling nvidia-curand-cu12-10.3.6.82:\n",
      "      Successfully uninstalled nvidia-curand-cu12-10.3.6.82\n",
      "  Attempting uninstall: nvidia-cufft-cu12\n",
      "    Found existing installation: nvidia-cufft-cu12 11.2.3.61\n",
      "    Uninstalling nvidia-cufft-cu12-11.2.3.61:\n",
      "      Successfully uninstalled nvidia-cufft-cu12-11.2.3.61\n",
      "  Attempting uninstall: nvidia-cuda-runtime-cu12\n",
      "    Found existing installation: nvidia-cuda-runtime-cu12 12.5.82\n",
      "    Uninstalling nvidia-cuda-runtime-cu12-12.5.82:\n",
      "      Successfully uninstalled nvidia-cuda-runtime-cu12-12.5.82\n",
      "  Attempting uninstall: nvidia-cuda-nvrtc-cu12\n",
      "    Found existing installation: nvidia-cuda-nvrtc-cu12 12.5.82\n",
      "    Uninstalling nvidia-cuda-nvrtc-cu12-12.5.82:\n",
      "      Successfully uninstalled nvidia-cuda-nvrtc-cu12-12.5.82\n",
      "  Attempting uninstall: nvidia-cuda-cupti-cu12\n",
      "    Found existing installation: nvidia-cuda-cupti-cu12 12.5.82\n",
      "    Uninstalling nvidia-cuda-cupti-cu12-12.5.82:\n",
      "      Successfully uninstalled nvidia-cuda-cupti-cu12-12.5.82\n",
      "  Attempting uninstall: nvidia-cublas-cu12\n",
      "    Found existing installation: nvidia-cublas-cu12 12.5.3.2\n",
      "    Uninstalling nvidia-cublas-cu12-12.5.3.2:\n",
      "      Successfully uninstalled nvidia-cublas-cu12-12.5.3.2\n",
      "  Attempting uninstall: nvidia-cusparse-cu12\n",
      "    Found existing installation: nvidia-cusparse-cu12 12.5.1.3\n",
      "    Uninstalling nvidia-cusparse-cu12-12.5.1.3:\n",
      "      Successfully uninstalled nvidia-cusparse-cu12-12.5.1.3\n",
      "  Attempting uninstall: nvidia-cudnn-cu12\n",
      "    Found existing installation: nvidia-cudnn-cu12 9.3.0.75\n",
      "    Uninstalling nvidia-cudnn-cu12-9.3.0.75:\n",
      "      Successfully uninstalled nvidia-cudnn-cu12-9.3.0.75\n",
      "  Attempting uninstall: nvidia-cusolver-cu12\n",
      "    Found existing installation: nvidia-cusolver-cu12 11.6.3.83\n",
      "    Uninstalling nvidia-cusolver-cu12-11.6.3.83:\n",
      "      Successfully uninstalled nvidia-cusolver-cu12-11.6.3.83\n",
      "Successfully installed nvidia-cublas-cu12-12.4.5.8 nvidia-cuda-cupti-cu12-12.4.127 nvidia-cuda-nvrtc-cu12-12.4.127 nvidia-cuda-runtime-cu12-12.4.127 nvidia-cudnn-cu12-9.1.0.70 nvidia-cufft-cu12-11.2.1.3 nvidia-curand-cu12-10.3.5.147 nvidia-cusolver-cu12-11.6.1.9 nvidia-cusparse-cu12-12.3.1.170 nvidia-nvjitlink-cu12-12.4.127\n",
      "Requirement already satisfied: pandas in /usr/local/lib/python3.11/dist-packages (2.2.2)\n",
      "Requirement already satisfied: numpy>=1.23.2 in /usr/local/lib/python3.11/dist-packages (from pandas) (2.0.2)\n",
      "Requirement already satisfied: python-dateutil>=2.8.2 in /usr/local/lib/python3.11/dist-packages (from pandas) (2.9.0.post0)\n",
      "Requirement already satisfied: pytz>=2020.1 in /usr/local/lib/python3.11/dist-packages (from pandas) (2025.2)\n",
      "Requirement already satisfied: tzdata>=2022.7 in /usr/local/lib/python3.11/dist-packages (from pandas) (2025.2)\n",
      "Requirement already satisfied: six>=1.5 in /usr/local/lib/python3.11/dist-packages (from python-dateutil>=2.8.2->pandas) (1.17.0)\n",
      "Requirement already satisfied: matplotlib in /usr/local/lib/python3.11/dist-packages (3.10.0)\n",
      "Requirement already satisfied: contourpy>=1.0.1 in /usr/local/lib/python3.11/dist-packages (from matplotlib) (1.3.2)\n",
      "Requirement already satisfied: cycler>=0.10 in /usr/local/lib/python3.11/dist-packages (from matplotlib) (0.12.1)\n",
      "Requirement already satisfied: fonttools>=4.22.0 in /usr/local/lib/python3.11/dist-packages (from matplotlib) (4.58.1)\n",
      "Requirement already satisfied: kiwisolver>=1.3.1 in /usr/local/lib/python3.11/dist-packages (from matplotlib) (1.4.8)\n",
      "Requirement already satisfied: numpy>=1.23 in /usr/local/lib/python3.11/dist-packages (from matplotlib) (2.0.2)\n",
      "Requirement already satisfied: packaging>=20.0 in /usr/local/lib/python3.11/dist-packages (from matplotlib) (24.2)\n",
      "Requirement already satisfied: pillow>=8 in /usr/local/lib/python3.11/dist-packages (from matplotlib) (11.2.1)\n",
      "Requirement already satisfied: pyparsing>=2.3.1 in /usr/local/lib/python3.11/dist-packages (from matplotlib) (3.2.3)\n",
      "Requirement already satisfied: python-dateutil>=2.7 in /usr/local/lib/python3.11/dist-packages (from matplotlib) (2.9.0.post0)\n",
      "Requirement already satisfied: six>=1.5 in /usr/local/lib/python3.11/dist-packages (from python-dateutil>=2.7->matplotlib) (1.17.0)\n",
      "Requirement already satisfied: scikit-learn in /usr/local/lib/python3.11/dist-packages (1.6.1)\n",
      "Requirement already satisfied: numpy>=1.19.5 in /usr/local/lib/python3.11/dist-packages (from scikit-learn) (2.0.2)\n",
      "Requirement already satisfied: scipy>=1.6.0 in /usr/local/lib/python3.11/dist-packages (from scikit-learn) (1.15.3)\n",
      "Requirement already satisfied: joblib>=1.2.0 in /usr/local/lib/python3.11/dist-packages (from scikit-learn) (1.5.1)\n",
      "Requirement already satisfied: threadpoolctl>=3.1.0 in /usr/local/lib/python3.11/dist-packages (from scikit-learn) (3.6.0)\n",
      "Requirement already satisfied: yfinance in /usr/local/lib/python3.11/dist-packages (0.2.61)\n",
      "Requirement already satisfied: pandas>=1.3.0 in /usr/local/lib/python3.11/dist-packages (from yfinance) (2.2.2)\n",
      "Requirement already satisfied: numpy>=1.16.5 in /usr/local/lib/python3.11/dist-packages (from yfinance) (2.0.2)\n",
      "Requirement already satisfied: requests>=2.31 in /usr/local/lib/python3.11/dist-packages (from yfinance) (2.32.3)\n",
      "Requirement already satisfied: multitasking>=0.0.7 in /usr/local/lib/python3.11/dist-packages (from yfinance) (0.0.11)\n",
      "Requirement already satisfied: platformdirs>=2.0.0 in /usr/local/lib/python3.11/dist-packages (from yfinance) (4.3.8)\n",
      "Requirement already satisfied: pytz>=2022.5 in /usr/local/lib/python3.11/dist-packages (from yfinance) (2025.2)\n",
      "Requirement already satisfied: frozendict>=2.3.4 in /usr/local/lib/python3.11/dist-packages (from yfinance) (2.4.6)\n",
      "Requirement already satisfied: peewee>=3.16.2 in /usr/local/lib/python3.11/dist-packages (from yfinance) (3.18.1)\n",
      "Requirement already satisfied: beautifulsoup4>=4.11.1 in /usr/local/lib/python3.11/dist-packages (from yfinance) (4.13.4)\n",
      "Requirement already satisfied: curl_cffi>=0.7 in /usr/local/lib/python3.11/dist-packages (from yfinance) (0.11.1)\n",
      "Requirement already satisfied: protobuf>=3.19.0 in /usr/local/lib/python3.11/dist-packages (from yfinance) (5.29.5)\n",
      "Requirement already satisfied: websockets>=13.0 in /usr/local/lib/python3.11/dist-packages (from yfinance) (15.0.1)\n",
      "Requirement already satisfied: soupsieve>1.2 in /usr/local/lib/python3.11/dist-packages (from beautifulsoup4>=4.11.1->yfinance) (2.7)\n",
      "Requirement already satisfied: typing-extensions>=4.0.0 in /usr/local/lib/python3.11/dist-packages (from beautifulsoup4>=4.11.1->yfinance) (4.14.0)\n",
      "Requirement already satisfied: cffi>=1.12.0 in /usr/local/lib/python3.11/dist-packages (from curl_cffi>=0.7->yfinance) (1.17.1)\n",
      "Requirement already satisfied: certifi>=2024.2.2 in /usr/local/lib/python3.11/dist-packages (from curl_cffi>=0.7->yfinance) (2025.4.26)\n",
      "Requirement already satisfied: python-dateutil>=2.8.2 in /usr/local/lib/python3.11/dist-packages (from pandas>=1.3.0->yfinance) (2.9.0.post0)\n",
      "Requirement already satisfied: tzdata>=2022.7 in /usr/local/lib/python3.11/dist-packages (from pandas>=1.3.0->yfinance) (2025.2)\n",
      "Requirement already satisfied: charset-normalizer<4,>=2 in /usr/local/lib/python3.11/dist-packages (from requests>=2.31->yfinance) (3.4.2)\n",
      "Requirement already satisfied: idna<4,>=2.5 in /usr/local/lib/python3.11/dist-packages (from requests>=2.31->yfinance) (3.10)\n",
      "Requirement already satisfied: urllib3<3,>=1.21.1 in /usr/local/lib/python3.11/dist-packages (from requests>=2.31->yfinance) (2.4.0)\n",
      "Requirement already satisfied: pycparser in /usr/local/lib/python3.11/dist-packages (from cffi>=1.12.0->curl_cffi>=0.7->yfinance) (2.22)\n",
      "Requirement already satisfied: six>=1.5 in /usr/local/lib/python3.11/dist-packages (from python-dateutil>=2.8.2->pandas>=1.3.0->yfinance) (1.17.0)\n"
     ]
    }
   ],
   "source": [
    "!pip install torch\n",
    "!pip install pandas\n",
    "!pip install matplotlib\n",
    "!pip install scikit-learn\n",
    "!pip install yfinance"
   ]
  },
  {
   "cell_type": "code",
   "execution_count": 3,
   "id": "YJtR6jmxONaq",
   "metadata": {
    "executionInfo": {
     "elapsed": 9,
     "status": "ok",
     "timestamp": 1749635774760,
     "user": {
      "displayName": "Javi Luque",
      "userId": "04690238348256980555"
     },
     "user_tz": -120
    },
    "id": "YJtR6jmxONaq"
   },
   "outputs": [],
   "source": [
    "import os\n",
    "os.environ[\"CUDA_VISIBLE_DEVICES\"] = \"-1\"  # 🔒 Desactiva GPU"
   ]
  },
  {
   "cell_type": "code",
   "execution_count": 1,
   "id": "i8cuywT1CgLh",
   "metadata": {
    "colab": {
     "base_uri": "https://localhost:8080/"
    },
    "executionInfo": {
     "elapsed": 4761,
     "status": "ok",
     "timestamp": 1749635644523,
     "user": {
      "displayName": "Javi Luque",
      "userId": "04690238348256980555"
     },
     "user_tz": -120
    },
    "id": "i8cuywT1CgLh",
    "outputId": "d71ba618-a3d8-4d48-809a-baafa6560fb9"
   },
   "outputs": [
    {
     "name": "stdout",
     "output_type": "stream",
     "text": [
      "Dispositivo: [PhysicalDevice(name='/physical_device:CPU:0', device_type='CPU')]\n"
     ]
    }
   ],
   "source": [
    "import tensorflow as tf\n",
    "print(\"Dispositivo:\", tf.config.list_physical_devices())"
   ]
  },
  {
   "cell_type": "code",
   "execution_count": 2,
   "id": "13f45156-4a0e-42d7-aa42-e139e7a54d3b",
   "metadata": {
    "executionInfo": {
     "elapsed": 2633,
     "status": "ok",
     "timestamp": 1749635652202,
     "user": {
      "displayName": "Javi Luque",
      "userId": "04690238348256980555"
     },
     "user_tz": -120
    },
    "id": "13f45156-4a0e-42d7-aa42-e139e7a54d3b"
   },
   "outputs": [],
   "source": [
    "import torch\n",
    "from torch import nn\n",
    "import matplotlib.pyplot as plt\n",
    "import pandas as pd\n",
    "import yfinance as yf\n",
    "import numpy as np\n",
    "from datetime import date\n",
    "from sklearn.preprocessing import MinMaxScaler\n"
   ]
  },
  {
   "cell_type": "markdown",
   "id": "57303f24-2e54-4da7-b85d-72d44dc9dbda",
   "metadata": {
    "id": "57303f24-2e54-4da7-b85d-72d44dc9dbda"
   },
   "source": [
    "# Cargamos y leemos los datos\n",
    "Vamos a cargar los valores de la acción en bolsa con precios de apertura, cierre, alto y bajo...\n",
    "\n",
    "La fuente de los datos viene de Yahoo Finance y haremos la predicción en base a los datos que tenemos desde 2022."
   ]
  },
  {
   "cell_type": "code",
   "execution_count": 4,
   "id": "37d0b353-2c9e-4588-9b4a-b9405dddd153",
   "metadata": {
    "colab": {
     "base_uri": "https://localhost:8080/"
    },
    "executionInfo": {
     "elapsed": 679,
     "status": "ok",
     "timestamp": 1749635779139,
     "user": {
      "displayName": "Javi Luque",
      "userId": "04690238348256980555"
     },
     "user_tz": -120
    },
    "id": "37d0b353-2c9e-4588-9b4a-b9405dddd153",
    "outputId": "eff773bc-70f8-4108-bd15-0fca11c7b32b"
   },
   "outputs": [
    {
     "name": "stdout",
     "output_type": "stream",
     "text": [
      "YF.download() has changed argument auto_adjust default to True\n"
     ]
    },
    {
     "name": "stderr",
     "output_type": "stream",
     "text": [
      "\r",
      "[*********************100%***********************]  1 of 1 completed"
     ]
    },
    {
     "name": "stdout",
     "output_type": "stream",
     "text": [
      "Price            Close        High         Low        Open  Volume\n",
      "Ticker            MSCI        MSCI        MSCI        MSCI    MSCI\n",
      "Date                                                              \n",
      "2022-01-03  573.252502  593.994609  566.919162  591.299590  297500\n",
      "2022-01-04  568.969360  583.589911  562.135553  582.482999  381800\n",
      "2022-01-05  544.896973  569.643163  544.021113  568.054996  548400\n",
      "2022-01-06  541.874634  544.781437  529.592979  541.508875  705600\n",
      "2022-01-07  531.306274  544.945044  530.998264  541.874630  551600\n",
      "...                ...         ...         ...         ...     ...\n",
      "2025-06-04  566.909973  569.729980  565.349976  568.190002  264600\n",
      "2025-06-05  564.070007  568.929993  561.150024  568.929993  348300\n",
      "2025-06-06  568.640015  569.750000  564.559998  566.400024  251300\n",
      "2025-06-09  558.000000  569.219971  557.299988  567.780029  526500\n",
      "2025-06-10  557.840027  563.260010  556.090027  558.960022  500400\n",
      "\n",
      "[862 rows x 5 columns]\n"
     ]
    },
    {
     "name": "stderr",
     "output_type": "stream",
     "text": [
      "\n"
     ]
    }
   ],
   "source": [
    "ticker = [\"MSCI\"]\n",
    "start_date = \"2022-01-01\"\n",
    "today = date.today().strftime(\"%Y-%m-%d\")\n",
    "\n",
    "# Descargo los datos\n",
    "data = yf.download(ticker, start=start_date, end=today)\n",
    "data = data.dropna()  # Elimino nulos, días sin datos\n",
    "print(data)"
   ]
  },
  {
   "cell_type": "code",
   "execution_count": 5,
   "id": "f562acc0-89f5-427b-abbe-c671c7c594c4",
   "metadata": {
    "colab": {
     "base_uri": "https://localhost:8080/"
    },
    "executionInfo": {
     "elapsed": 22,
     "status": "ok",
     "timestamp": 1749635782083,
     "user": {
      "displayName": "Javi Luque",
      "userId": "04690238348256980555"
     },
     "user_tz": -120
    },
    "id": "f562acc0-89f5-427b-abbe-c671c7c594c4",
    "outputId": "12db5d78-ee15-49bd-879f-59f5243583be"
   },
   "outputs": [
    {
     "name": "stdout",
     "output_type": "stream",
     "text": [
      "<class 'pandas.core.frame.DataFrame'>\n",
      "DatetimeIndex: 862 entries, 2022-01-03 to 2025-06-10\n",
      "Data columns (total 5 columns):\n",
      " #   Column          Non-Null Count  Dtype  \n",
      "---  ------          --------------  -----  \n",
      " 0   (Close, MSCI)   862 non-null    float64\n",
      " 1   (High, MSCI)    862 non-null    float64\n",
      " 2   (Low, MSCI)     862 non-null    float64\n",
      " 3   (Open, MSCI)    862 non-null    float64\n",
      " 4   (Volume, MSCI)  862 non-null    int64  \n",
      "dtypes: float64(4), int64(1)\n",
      "memory usage: 40.4 KB\n",
      "None\n"
     ]
    }
   ],
   "source": [
    "print(data.info())"
   ]
  },
  {
   "cell_type": "code",
   "execution_count": 6,
   "id": "34b6604d-4cac-4308-a54d-b5cb1c589ea5",
   "metadata": {
    "executionInfo": {
     "elapsed": 10,
     "status": "ok",
     "timestamp": 1749635783201,
     "user": {
      "displayName": "Javi Luque",
      "userId": "04690238348256980555"
     },
     "user_tz": -120
    },
    "id": "34b6604d-4cac-4308-a54d-b5cb1c589ea5"
   },
   "outputs": [],
   "source": [
    "# Usar solo columnas 'Close' y 'Open'\n",
    "data = data[['Close']].copy()"
   ]
  },
  {
   "cell_type": "code",
   "execution_count": 7,
   "id": "cc5b91bf-712a-418e-8d60-3cbdc263855d",
   "metadata": {
    "colab": {
     "base_uri": "https://localhost:8080/"
    },
    "executionInfo": {
     "elapsed": 18,
     "status": "ok",
     "timestamp": 1749635784821,
     "user": {
      "displayName": "Javi Luque",
      "userId": "04690238348256980555"
     },
     "user_tz": -120
    },
    "id": "cc5b91bf-712a-418e-8d60-3cbdc263855d",
    "outputId": "6664abcd-4c2a-4546-80a6-863fa75f2a79"
   },
   "outputs": [
    {
     "name": "stdout",
     "output_type": "stream",
     "text": [
      "Primeros 5 elementos del dataset\n",
      "Price            Close\n",
      "Ticker            MSCI\n",
      "Date                  \n",
      "2022-01-03  573.252502\n",
      "2022-01-04  568.969360\n",
      "2022-01-05  544.896973\n",
      "2022-01-06  541.874634\n",
      "2022-01-07  531.306274\n",
      "Ultimos 5 elementos del dataset\n",
      "Price            Close\n",
      "Ticker            MSCI\n",
      "Date                  \n",
      "2025-06-04  566.909973\n",
      "2025-06-05  564.070007\n",
      "2025-06-06  568.640015\n",
      "2025-06-09  558.000000\n",
      "2025-06-10  557.840027\n"
     ]
    }
   ],
   "source": [
    "print(\"Primeros 5 elementos del dataset\", end = \"\\n\")\n",
    "print(data.head(5))\n",
    "print(\"Ultimos 5 elementos del dataset\", end = \"\\n\")\n",
    "print(data.tail(5))"
   ]
  },
  {
   "cell_type": "markdown",
   "id": "c8b04100-75f2-4ecf-89e3-a3e7b67844f4",
   "metadata": {
    "id": "c8b04100-75f2-4ecf-89e3-a3e7b67844f4"
   },
   "source": []
  },
  {
   "cell_type": "markdown",
   "id": "d41071a4-fb20-41a3-8866-aca8b59f9feb",
   "metadata": {
    "id": "d41071a4-fb20-41a3-8866-aca8b59f9feb"
   },
   "source": [
    "Hacemos una pequeña exploración y ordenamos los datos del más antiguo al más reciente"
   ]
  },
  {
   "cell_type": "code",
   "execution_count": 8,
   "id": "98b1a686-505a-4f17-b84f-5ff028279bd4",
   "metadata": {
    "colab": {
     "base_uri": "https://localhost:8080/"
    },
    "executionInfo": {
     "elapsed": 8,
     "status": "ok",
     "timestamp": 1749635786756,
     "user": {
      "displayName": "Javi Luque",
      "userId": "04690238348256980555"
     },
     "user_tz": -120
    },
    "id": "98b1a686-505a-4f17-b84f-5ff028279bd4",
    "outputId": "5746f25e-9418-47c6-e772-003ba92a0cd9"
   },
   "outputs": [
    {
     "name": "stdout",
     "output_type": "stream",
     "text": [
      "Price            Close\n",
      "Ticker            MSCI\n",
      "Date                  \n",
      "2022-01-03  573.252502\n",
      "2022-01-04  568.969360\n",
      "2022-01-05  544.896973\n",
      "2022-01-06  541.874634\n",
      "2022-01-07  531.306274\n"
     ]
    }
   ],
   "source": [
    "df = data.sort_values(by=\"Date\")\n",
    "print(df.head())"
   ]
  },
  {
   "cell_type": "markdown",
   "id": "1ee2ce38-97e2-4afb-a935-b2d19dc8005b",
   "metadata": {
    "id": "1ee2ce38-97e2-4afb-a935-b2d19dc8005b"
   },
   "source": [
    "# Escaldo de datos\n",
    "Transformaremos los valores que tenemos con MinMaxScaler para que esten en escalas comparables"
   ]
  },
  {
   "cell_type": "code",
   "execution_count": 9,
   "id": "e0a2d356-e954-4c84-a2c5-304f86813ea1",
   "metadata": {
    "colab": {
     "base_uri": "https://localhost:8080/"
    },
    "executionInfo": {
     "elapsed": 4,
     "status": "ok",
     "timestamp": 1749635788078,
     "user": {
      "displayName": "Javi Luque",
      "userId": "04690238348256980555"
     },
     "user_tz": -120
    },
    "id": "e0a2d356-e954-4c84-a2c5-304f86813ea1",
    "outputId": "f6d3b733-9f21-475d-821b-a9d58a4ff3da"
   },
   "outputs": [
    {
     "name": "stdout",
     "output_type": "stream",
     "text": [
      "Price            Close\n",
      "Ticker            MSCI\n",
      "Date                  \n",
      "2022-01-03  573.252502\n",
      "2022-01-04  568.969360\n",
      "2022-01-05  544.896973\n",
      "2022-01-06  541.874634\n",
      "2022-01-07  531.306274\n"
     ]
    }
   ],
   "source": [
    "from sklearn.preprocessing import MinMaxScaler\n",
    "price = df[['Close']]\n",
    "print(price[:5])"
   ]
  },
  {
   "cell_type": "code",
   "execution_count": 10,
   "id": "7bf4bc55-81a2-4a56-adaf-211a754c957e",
   "metadata": {
    "colab": {
     "base_uri": "https://localhost:8080/"
    },
    "executionInfo": {
     "elapsed": 10,
     "status": "ok",
     "timestamp": 1749635791300,
     "user": {
      "displayName": "Javi Luque",
      "userId": "04690238348256980555"
     },
     "user_tz": -120
    },
    "id": "7bf4bc55-81a2-4a56-adaf-211a754c957e",
    "outputId": "e76e1455-0755-49f7-c279-26140ed69c7c"
   },
   "outputs": [
    {
     "name": "stdout",
     "output_type": "stream",
     "text": [
      "[[0.77948393]\n",
      " [0.76340837]\n",
      " [0.67305951]\n",
      " [0.66171602]\n",
      " [0.62205069]]\n"
     ]
    }
   ],
   "source": [
    "scaler = MinMaxScaler(feature_range=(0, 1))\n",
    "x_price = scaler.fit_transform(price.values)\n",
    "y_price = scaler.fit_transform(price.values)\n",
    "\n",
    "print(x_price[:5])"
   ]
  },
  {
   "cell_type": "markdown",
   "id": "82463a29-ba01-488e-a30c-7946762c4bb9",
   "metadata": {
    "id": "82463a29-ba01-488e-a30c-7946762c4bb9"
   },
   "source": [
    "# Conjunto de Test y Training\n",
    "Ahora vamos a crear el conjunto de datos de Test y Training, tras hacer unas pruebas, lo haremos con una ventana de entrenamiento de 15.\n",
    "\n"
   ]
  },
  {
   "cell_type": "code",
   "execution_count": 11,
   "id": "6X3VChZf4lcN",
   "metadata": {
    "colab": {
     "base_uri": "https://localhost:8080/"
    },
    "executionInfo": {
     "elapsed": 8,
     "status": "ok",
     "timestamp": 1749635793830,
     "user": {
      "displayName": "Javi Luque",
      "userId": "04690238348256980555"
     },
     "user_tz": -120
    },
    "id": "6X3VChZf4lcN",
    "outputId": "c5c55285-823a-40e5-cea9-083779a2b9ca"
   },
   "outputs": [
    {
     "name": "stdout",
     "output_type": "stream",
     "text": [
      "Length =  862\n",
      "Total data size: 852\n",
      "Train size: 596\n",
      "Test size: 256\n"
     ]
    }
   ],
   "source": [
    "train_window = 10\n",
    "import numpy as np\n",
    "\n",
    "def create_in_out_sequences(price, tw):\n",
    "    inout_seq = []\n",
    "    L = len(x_price)\n",
    "    print('Length = ', L)\n",
    "\n",
    "    for i in range(L - tw):\n",
    "        data_seq = x_price[i:i + tw]\n",
    "        data_label = price[i + tw:i + tw + 1][0]\n",
    "        inout_seq.append((data_seq, data_label))\n",
    "\n",
    "    data = inout_seq\n",
    "    print('Total data size:', len(data))\n",
    "\n",
    "    # Calcular el tamaño del conjunto de entrenamiento como el 70%\n",
    "    train_set_size = int(len(data) * 0.7)\n",
    "    test_set_size = len(data) - train_set_size\n",
    "\n",
    "    print('Train size:', train_set_size)\n",
    "    print('Test size:', test_set_size)\n",
    "\n",
    "    train = data[:train_set_size]\n",
    "    test = data[train_set_size:]\n",
    "\n",
    "    # Opcional: recorte para evitar problemas si haces series temporales con ventanas\n",
    "    train = train[:-(tw - 1)] if len(train) > (tw - 1) else train\n",
    "\n",
    "    return train, test\n",
    "\n",
    "train, test = create_in_out_sequences(x_price, train_window)\n"
   ]
  },
  {
   "cell_type": "code",
   "execution_count": 12,
   "id": "17428c94-e8f7-49cf-a56d-b9d2fbad22f6",
   "metadata": {
    "colab": {
     "base_uri": "https://localhost:8080/"
    },
    "executionInfo": {
     "elapsed": 3,
     "status": "ok",
     "timestamp": 1749635797987,
     "user": {
      "displayName": "Javi Luque",
      "userId": "04690238348256980555"
     },
     "user_tz": -120
    },
    "id": "17428c94-e8f7-49cf-a56d-b9d2fbad22f6",
    "outputId": "908c6a67-5e1f-4f72-c3a2-a85b0fa5b341"
   },
   "outputs": [
    {
     "name": "stdout",
     "output_type": "stream",
     "text": [
      "(array([[0.50236048],\n",
      "       [0.52806602],\n",
      "       [0.50310246],\n",
      "       [0.49679663],\n",
      "       [0.44698096],\n",
      "       [0.45662492],\n",
      "       [0.46664022],\n",
      "       [0.4445328 ],\n",
      "       [0.44371671],\n",
      "       [0.46471138]]), array([0.44735173]))\n",
      "(array([[0.35467578],\n",
      "       [0.38591676],\n",
      "       [0.37079543],\n",
      "       [0.36839229],\n",
      "       [0.4118342 ],\n",
      "       [0.42166875],\n",
      "       [0.42318444],\n",
      "       [0.43257527],\n",
      "       [0.43978493],\n",
      "       [0.47335404]]), array([0.50236048]))\n"
     ]
    }
   ],
   "source": [
    "print(test[0])\n",
    "print(train[-1])"
   ]
  },
  {
   "cell_type": "markdown",
   "id": "4f86b64b-9a8d-4ca7-96cf-fc730fdf9cfd",
   "metadata": {
    "id": "4f86b64b-9a8d-4ca7-96cf-fc730fdf9cfd"
   },
   "source": []
  },
  {
   "cell_type": "markdown",
   "id": "6d5729b8-4cde-41e9-ad2d-11762aea59cf",
   "metadata": {
    "id": "6d5729b8-4cde-41e9-ad2d-11762aea59cf"
   },
   "source": [
    "Construimos nuestro modelo con la implementación de una red LSTM en PyTorch con una capa oculta de tamaño 100 y una capa lineal para la salida."
   ]
  },
  {
   "cell_type": "code",
   "execution_count": 13,
   "id": "cIYLFX3k90Yw",
   "metadata": {
    "executionInfo": {
     "elapsed": 3,
     "status": "ok",
     "timestamp": 1749635800408,
     "user": {
      "displayName": "Javi Luque",
      "userId": "04690238348256980555"
     },
     "user_tz": -120
    },
    "id": "cIYLFX3k90Yw"
   },
   "outputs": [],
   "source": [
    "x_train = []\n",
    "y_train = []\n",
    "\n",
    "for i in range(100, price.shape[0]):\n",
    "    x_train.append(x_price[i-100: i])\n",
    "    y_train.append(x_price[i, 0])\n",
    "\n",
    "x_train, y_train = np.array(x_train), np.array(y_train)"
   ]
  },
  {
   "cell_type": "code",
   "execution_count": 14,
   "id": "neaH4dgpATM4",
   "metadata": {
    "colab": {
     "base_uri": "https://localhost:8080/"
    },
    "executionInfo": {
     "elapsed": 4,
     "status": "ok",
     "timestamp": 1749635802149,
     "user": {
      "displayName": "Javi Luque",
      "userId": "04690238348256980555"
     },
     "user_tz": -120
    },
    "id": "neaH4dgpATM4",
    "outputId": "9ecad98b-5e51-4ede-9752-d9a38c0c31ce"
   },
   "outputs": [
    {
     "name": "stdout",
     "output_type": "stream",
     "text": [
      "(762, 100, 1)\n",
      "(762,)\n"
     ]
    }
   ],
   "source": [
    "print(x_train.shape)\n",
    "print(y_train.shape)"
   ]
  },
  {
   "cell_type": "code",
   "execution_count": 15,
   "id": "X2pxaciPHCGD",
   "metadata": {
    "executionInfo": {
     "elapsed": 4,
     "status": "ok",
     "timestamp": 1749635803547,
     "user": {
      "displayName": "Javi Luque",
      "userId": "04690238348256980555"
     },
     "user_tz": -120
    },
    "id": "X2pxaciPHCGD"
   },
   "outputs": [],
   "source": [
    "x_test = []\n",
    "y_test = []\n",
    "\n",
    "for i in range(100, price.shape[0]):\n",
    "   x_test.append(y_price[i-100: i])\n",
    "   y_test.append(y_price[i, 0])\n",
    "\n",
    "x_test, y_test = np.array(x_test), np.array(y_test)\n"
   ]
  },
  {
   "cell_type": "code",
   "execution_count": 16,
   "id": "McD-J5oDK3u9",
   "metadata": {
    "colab": {
     "base_uri": "https://localhost:8080/"
    },
    "executionInfo": {
     "elapsed": 44,
     "status": "ok",
     "timestamp": 1749635805287,
     "user": {
      "displayName": "Javi Luque",
      "userId": "04690238348256980555"
     },
     "user_tz": -120
    },
    "id": "McD-J5oDK3u9",
    "outputId": "21e92db7-e052-44d4-f235-486d4afd2446"
   },
   "outputs": [
    {
     "name": "stdout",
     "output_type": "stream",
     "text": [
      "(762, 100, 1)\n",
      "(762,)\n"
     ]
    }
   ],
   "source": [
    "print(x_test.shape)\n",
    "print(y_test.shape)\n"
   ]
  },
  {
   "cell_type": "code",
   "execution_count": 17,
   "id": "qsg8A1j87eTy",
   "metadata": {
    "executionInfo": {
     "elapsed": 19,
     "status": "ok",
     "timestamp": 1749635806518,
     "user": {
      "displayName": "Javi Luque",
      "userId": "04690238348256980555"
     },
     "user_tz": -120
    },
    "id": "qsg8A1j87eTy"
   },
   "outputs": [],
   "source": [
    "from tensorflow.keras.layers import Dense, Dropout, LSTM\n",
    "from tensorflow.keras.models import Sequential"
   ]
  },
  {
   "cell_type": "code",
   "execution_count": 18,
   "id": "gfeg6RjE7Yxq",
   "metadata": {
    "colab": {
     "base_uri": "https://localhost:8080/"
    },
    "executionInfo": {
     "elapsed": 177,
     "status": "ok",
     "timestamp": 1749635807425,
     "user": {
      "displayName": "Javi Luque",
      "userId": "04690238348256980555"
     },
     "user_tz": -120
    },
    "id": "gfeg6RjE7Yxq",
    "outputId": "58bb0877-60dd-4883-ec95-6122db663ca1"
   },
   "outputs": [
    {
     "name": "stderr",
     "output_type": "stream",
     "text": [
      "/usr/local/lib/python3.11/dist-packages/keras/src/layers/rnn/rnn.py:200: UserWarning: Do not pass an `input_shape`/`input_dim` argument to a layer. When using Sequential models, prefer using an `Input(shape)` object as the first layer in the model instead.\n",
      "  super().__init__(**kwargs)\n"
     ]
    }
   ],
   "source": [
    "model = Sequential()\n",
    "model.add(LSTM(units = 50, activation = 'relu', return_sequences=True\n",
    "              ,input_shape = (x_train.shape[1], 1)))\n",
    "model.add(Dropout(0.2))\n",
    "\n",
    "\n",
    "model.add(LSTM(units = 60, activation = 'relu', return_sequences=True))\n",
    "model.add(Dropout(0.3))\n",
    "\n",
    "\n",
    "model.add(LSTM(units = 80, activation = 'relu', return_sequences=True))\n",
    "model.add(Dropout(0.4))\n",
    "\n",
    "\n",
    "model.add(LSTM(units = 120, activation = 'relu'))\n",
    "model.add(Dropout(0.5))\n",
    "\n",
    "model.add(Dense(units = 1))"
   ]
  },
  {
   "cell_type": "code",
   "execution_count": 19,
   "id": "MEzA4QuNAwQy",
   "metadata": {
    "colab": {
     "base_uri": "https://localhost:8080/",
     "height": 442
    },
    "executionInfo": {
     "elapsed": 44,
     "status": "ok",
     "timestamp": 1749635808995,
     "user": {
      "displayName": "Javi Luque",
      "userId": "04690238348256980555"
     },
     "user_tz": -120
    },
    "id": "MEzA4QuNAwQy",
    "outputId": "1008eac7-6a3f-47b8-c492-cd52cbf31f6c"
   },
   "outputs": [
    {
     "data": {
      "text/html": [
       "<pre style=\"white-space:pre;overflow-x:auto;line-height:normal;font-family:Menlo,'DejaVu Sans Mono',consolas,'Courier New',monospace\"><span style=\"font-weight: bold\">Model: \"sequential\"</span>\n",
       "</pre>\n"
      ],
      "text/plain": [
       "\u001b[1mModel: \"sequential\"\u001b[0m\n"
      ]
     },
     "metadata": {},
     "output_type": "display_data"
    },
    {
     "data": {
      "text/html": [
       "<pre style=\"white-space:pre;overflow-x:auto;line-height:normal;font-family:Menlo,'DejaVu Sans Mono',consolas,'Courier New',monospace\">┏━━━━━━━━━━━━━━━━━━━━━━━━━━━━━━━━━┳━━━━━━━━━━━━━━━━━━━━━━━━┳━━━━━━━━━━━━━━━┓\n",
       "┃<span style=\"font-weight: bold\"> Layer (type)                    </span>┃<span style=\"font-weight: bold\"> Output Shape           </span>┃<span style=\"font-weight: bold\">       Param # </span>┃\n",
       "┡━━━━━━━━━━━━━━━━━━━━━━━━━━━━━━━━━╇━━━━━━━━━━━━━━━━━━━━━━━━╇━━━━━━━━━━━━━━━┩\n",
       "│ lstm (<span style=\"color: #0087ff; text-decoration-color: #0087ff\">LSTM</span>)                     │ (<span style=\"color: #00d7ff; text-decoration-color: #00d7ff\">None</span>, <span style=\"color: #00af00; text-decoration-color: #00af00\">100</span>, <span style=\"color: #00af00; text-decoration-color: #00af00\">50</span>)        │        <span style=\"color: #00af00; text-decoration-color: #00af00\">10,400</span> │\n",
       "├─────────────────────────────────┼────────────────────────┼───────────────┤\n",
       "│ dropout (<span style=\"color: #0087ff; text-decoration-color: #0087ff\">Dropout</span>)               │ (<span style=\"color: #00d7ff; text-decoration-color: #00d7ff\">None</span>, <span style=\"color: #00af00; text-decoration-color: #00af00\">100</span>, <span style=\"color: #00af00; text-decoration-color: #00af00\">50</span>)        │             <span style=\"color: #00af00; text-decoration-color: #00af00\">0</span> │\n",
       "├─────────────────────────────────┼────────────────────────┼───────────────┤\n",
       "│ lstm_1 (<span style=\"color: #0087ff; text-decoration-color: #0087ff\">LSTM</span>)                   │ (<span style=\"color: #00d7ff; text-decoration-color: #00d7ff\">None</span>, <span style=\"color: #00af00; text-decoration-color: #00af00\">100</span>, <span style=\"color: #00af00; text-decoration-color: #00af00\">60</span>)        │        <span style=\"color: #00af00; text-decoration-color: #00af00\">26,640</span> │\n",
       "├─────────────────────────────────┼────────────────────────┼───────────────┤\n",
       "│ dropout_1 (<span style=\"color: #0087ff; text-decoration-color: #0087ff\">Dropout</span>)             │ (<span style=\"color: #00d7ff; text-decoration-color: #00d7ff\">None</span>, <span style=\"color: #00af00; text-decoration-color: #00af00\">100</span>, <span style=\"color: #00af00; text-decoration-color: #00af00\">60</span>)        │             <span style=\"color: #00af00; text-decoration-color: #00af00\">0</span> │\n",
       "├─────────────────────────────────┼────────────────────────┼───────────────┤\n",
       "│ lstm_2 (<span style=\"color: #0087ff; text-decoration-color: #0087ff\">LSTM</span>)                   │ (<span style=\"color: #00d7ff; text-decoration-color: #00d7ff\">None</span>, <span style=\"color: #00af00; text-decoration-color: #00af00\">100</span>, <span style=\"color: #00af00; text-decoration-color: #00af00\">80</span>)        │        <span style=\"color: #00af00; text-decoration-color: #00af00\">45,120</span> │\n",
       "├─────────────────────────────────┼────────────────────────┼───────────────┤\n",
       "│ dropout_2 (<span style=\"color: #0087ff; text-decoration-color: #0087ff\">Dropout</span>)             │ (<span style=\"color: #00d7ff; text-decoration-color: #00d7ff\">None</span>, <span style=\"color: #00af00; text-decoration-color: #00af00\">100</span>, <span style=\"color: #00af00; text-decoration-color: #00af00\">80</span>)        │             <span style=\"color: #00af00; text-decoration-color: #00af00\">0</span> │\n",
       "├─────────────────────────────────┼────────────────────────┼───────────────┤\n",
       "│ lstm_3 (<span style=\"color: #0087ff; text-decoration-color: #0087ff\">LSTM</span>)                   │ (<span style=\"color: #00d7ff; text-decoration-color: #00d7ff\">None</span>, <span style=\"color: #00af00; text-decoration-color: #00af00\">120</span>)            │        <span style=\"color: #00af00; text-decoration-color: #00af00\">96,480</span> │\n",
       "├─────────────────────────────────┼────────────────────────┼───────────────┤\n",
       "│ dropout_3 (<span style=\"color: #0087ff; text-decoration-color: #0087ff\">Dropout</span>)             │ (<span style=\"color: #00d7ff; text-decoration-color: #00d7ff\">None</span>, <span style=\"color: #00af00; text-decoration-color: #00af00\">120</span>)            │             <span style=\"color: #00af00; text-decoration-color: #00af00\">0</span> │\n",
       "├─────────────────────────────────┼────────────────────────┼───────────────┤\n",
       "│ dense (<span style=\"color: #0087ff; text-decoration-color: #0087ff\">Dense</span>)                   │ (<span style=\"color: #00d7ff; text-decoration-color: #00d7ff\">None</span>, <span style=\"color: #00af00; text-decoration-color: #00af00\">1</span>)              │           <span style=\"color: #00af00; text-decoration-color: #00af00\">121</span> │\n",
       "└─────────────────────────────────┴────────────────────────┴───────────────┘\n",
       "</pre>\n"
      ],
      "text/plain": [
       "┏━━━━━━━━━━━━━━━━━━━━━━━━━━━━━━━━━┳━━━━━━━━━━━━━━━━━━━━━━━━┳━━━━━━━━━━━━━━━┓\n",
       "┃\u001b[1m \u001b[0m\u001b[1mLayer (type)                   \u001b[0m\u001b[1m \u001b[0m┃\u001b[1m \u001b[0m\u001b[1mOutput Shape          \u001b[0m\u001b[1m \u001b[0m┃\u001b[1m \u001b[0m\u001b[1m      Param #\u001b[0m\u001b[1m \u001b[0m┃\n",
       "┡━━━━━━━━━━━━━━━━━━━━━━━━━━━━━━━━━╇━━━━━━━━━━━━━━━━━━━━━━━━╇━━━━━━━━━━━━━━━┩\n",
       "│ lstm (\u001b[38;5;33mLSTM\u001b[0m)                     │ (\u001b[38;5;45mNone\u001b[0m, \u001b[38;5;34m100\u001b[0m, \u001b[38;5;34m50\u001b[0m)        │        \u001b[38;5;34m10,400\u001b[0m │\n",
       "├─────────────────────────────────┼────────────────────────┼───────────────┤\n",
       "│ dropout (\u001b[38;5;33mDropout\u001b[0m)               │ (\u001b[38;5;45mNone\u001b[0m, \u001b[38;5;34m100\u001b[0m, \u001b[38;5;34m50\u001b[0m)        │             \u001b[38;5;34m0\u001b[0m │\n",
       "├─────────────────────────────────┼────────────────────────┼───────────────┤\n",
       "│ lstm_1 (\u001b[38;5;33mLSTM\u001b[0m)                   │ (\u001b[38;5;45mNone\u001b[0m, \u001b[38;5;34m100\u001b[0m, \u001b[38;5;34m60\u001b[0m)        │        \u001b[38;5;34m26,640\u001b[0m │\n",
       "├─────────────────────────────────┼────────────────────────┼───────────────┤\n",
       "│ dropout_1 (\u001b[38;5;33mDropout\u001b[0m)             │ (\u001b[38;5;45mNone\u001b[0m, \u001b[38;5;34m100\u001b[0m, \u001b[38;5;34m60\u001b[0m)        │             \u001b[38;5;34m0\u001b[0m │\n",
       "├─────────────────────────────────┼────────────────────────┼───────────────┤\n",
       "│ lstm_2 (\u001b[38;5;33mLSTM\u001b[0m)                   │ (\u001b[38;5;45mNone\u001b[0m, \u001b[38;5;34m100\u001b[0m, \u001b[38;5;34m80\u001b[0m)        │        \u001b[38;5;34m45,120\u001b[0m │\n",
       "├─────────────────────────────────┼────────────────────────┼───────────────┤\n",
       "│ dropout_2 (\u001b[38;5;33mDropout\u001b[0m)             │ (\u001b[38;5;45mNone\u001b[0m, \u001b[38;5;34m100\u001b[0m, \u001b[38;5;34m80\u001b[0m)        │             \u001b[38;5;34m0\u001b[0m │\n",
       "├─────────────────────────────────┼────────────────────────┼───────────────┤\n",
       "│ lstm_3 (\u001b[38;5;33mLSTM\u001b[0m)                   │ (\u001b[38;5;45mNone\u001b[0m, \u001b[38;5;34m120\u001b[0m)            │        \u001b[38;5;34m96,480\u001b[0m │\n",
       "├─────────────────────────────────┼────────────────────────┼───────────────┤\n",
       "│ dropout_3 (\u001b[38;5;33mDropout\u001b[0m)             │ (\u001b[38;5;45mNone\u001b[0m, \u001b[38;5;34m120\u001b[0m)            │             \u001b[38;5;34m0\u001b[0m │\n",
       "├─────────────────────────────────┼────────────────────────┼───────────────┤\n",
       "│ dense (\u001b[38;5;33mDense\u001b[0m)                   │ (\u001b[38;5;45mNone\u001b[0m, \u001b[38;5;34m1\u001b[0m)              │           \u001b[38;5;34m121\u001b[0m │\n",
       "└─────────────────────────────────┴────────────────────────┴───────────────┘\n"
      ]
     },
     "metadata": {},
     "output_type": "display_data"
    },
    {
     "data": {
      "text/html": [
       "<pre style=\"white-space:pre;overflow-x:auto;line-height:normal;font-family:Menlo,'DejaVu Sans Mono',consolas,'Courier New',monospace\"><span style=\"font-weight: bold\"> Total params: </span><span style=\"color: #00af00; text-decoration-color: #00af00\">178,761</span> (698.29 KB)\n",
       "</pre>\n"
      ],
      "text/plain": [
       "\u001b[1m Total params: \u001b[0m\u001b[38;5;34m178,761\u001b[0m (698.29 KB)\n"
      ]
     },
     "metadata": {},
     "output_type": "display_data"
    },
    {
     "data": {
      "text/html": [
       "<pre style=\"white-space:pre;overflow-x:auto;line-height:normal;font-family:Menlo,'DejaVu Sans Mono',consolas,'Courier New',monospace\"><span style=\"font-weight: bold\"> Trainable params: </span><span style=\"color: #00af00; text-decoration-color: #00af00\">178,761</span> (698.29 KB)\n",
       "</pre>\n"
      ],
      "text/plain": [
       "\u001b[1m Trainable params: \u001b[0m\u001b[38;5;34m178,761\u001b[0m (698.29 KB)\n"
      ]
     },
     "metadata": {},
     "output_type": "display_data"
    },
    {
     "data": {
      "text/html": [
       "<pre style=\"white-space:pre;overflow-x:auto;line-height:normal;font-family:Menlo,'DejaVu Sans Mono',consolas,'Courier New',monospace\"><span style=\"font-weight: bold\"> Non-trainable params: </span><span style=\"color: #00af00; text-decoration-color: #00af00\">0</span> (0.00 B)\n",
       "</pre>\n"
      ],
      "text/plain": [
       "\u001b[1m Non-trainable params: \u001b[0m\u001b[38;5;34m0\u001b[0m (0.00 B)\n"
      ]
     },
     "metadata": {},
     "output_type": "display_data"
    }
   ],
   "source": [
    "model.summary()"
   ]
  },
  {
   "cell_type": "code",
   "execution_count": 21,
   "id": "ElJfs7i2BM1s",
   "metadata": {
    "colab": {
     "base_uri": "https://localhost:8080/"
    },
    "executionInfo": {
     "elapsed": 546831,
     "status": "ok",
     "timestamp": 1749636367440,
     "user": {
      "displayName": "Javi Luque",
      "userId": "04690238348256980555"
     },
     "user_tz": -120
    },
    "id": "ElJfs7i2BM1s",
    "outputId": "c18ab496-4955-49da-8d8b-d7c14123ba79"
   },
   "outputs": [
    {
     "name": "stdout",
     "output_type": "stream",
     "text": [
      "Epoch 1/50\n",
      "\u001b[1m24/24\u001b[0m \u001b[32m━━━━━━━━━━━━━━━━━━━━\u001b[0m\u001b[37m\u001b[0m \u001b[1m20s\u001b[0m 454ms/step - MAE: 0.3731 - loss: 0.1943 - val_MAE: 0.0993 - val_loss: 0.0157\n",
      "Epoch 2/50\n",
      "\u001b[1m24/24\u001b[0m \u001b[32m━━━━━━━━━━━━━━━━━━━━\u001b[0m\u001b[37m\u001b[0m \u001b[1m18s\u001b[0m 362ms/step - MAE: 0.1351 - loss: 0.0279 - val_MAE: 0.0978 - val_loss: 0.0146\n",
      "Epoch 3/50\n",
      "\u001b[1m24/24\u001b[0m \u001b[32m━━━━━━━━━━━━━━━━━━━━\u001b[0m\u001b[37m\u001b[0m \u001b[1m10s\u001b[0m 364ms/step - MAE: 0.1195 - loss: 0.0225 - val_MAE: 0.0835 - val_loss: 0.0115\n",
      "Epoch 4/50\n",
      "\u001b[1m24/24\u001b[0m \u001b[32m━━━━━━━━━━━━━━━━━━━━\u001b[0m\u001b[37m\u001b[0m \u001b[1m10s\u001b[0m 433ms/step - MAE: 0.1124 - loss: 0.0198 - val_MAE: 0.1184 - val_loss: 0.0191\n",
      "Epoch 5/50\n",
      "\u001b[1m24/24\u001b[0m \u001b[32m━━━━━━━━━━━━━━━━━━━━\u001b[0m\u001b[37m\u001b[0m \u001b[1m19s\u001b[0m 386ms/step - MAE: 0.1117 - loss: 0.0204 - val_MAE: 0.0817 - val_loss: 0.0107\n",
      "Epoch 6/50\n",
      "\u001b[1m24/24\u001b[0m \u001b[32m━━━━━━━━━━━━━━━━━━━━\u001b[0m\u001b[37m\u001b[0m \u001b[1m9s\u001b[0m 358ms/step - MAE: 0.1056 - loss: 0.0177 - val_MAE: 0.0885 - val_loss: 0.0118\n",
      "Epoch 7/50\n",
      "\u001b[1m24/24\u001b[0m \u001b[32m━━━━━━━━━━━━━━━━━━━━\u001b[0m\u001b[37m\u001b[0m \u001b[1m11s\u001b[0m 393ms/step - MAE: 0.1085 - loss: 0.0174 - val_MAE: 0.0807 - val_loss: 0.0102\n",
      "Epoch 8/50\n",
      "\u001b[1m24/24\u001b[0m \u001b[32m━━━━━━━━━━━━━━━━━━━━\u001b[0m\u001b[37m\u001b[0m \u001b[1m11s\u001b[0m 418ms/step - MAE: 0.1051 - loss: 0.0174 - val_MAE: 0.0799 - val_loss: 0.0100\n",
      "Epoch 9/50\n",
      "\u001b[1m24/24\u001b[0m \u001b[32m━━━━━━━━━━━━━━━━━━━━\u001b[0m\u001b[37m\u001b[0m \u001b[1m10s\u001b[0m 430ms/step - MAE: 0.1007 - loss: 0.0155 - val_MAE: 0.1091 - val_loss: 0.0163\n",
      "Epoch 10/50\n",
      "\u001b[1m24/24\u001b[0m \u001b[32m━━━━━━━━━━━━━━━━━━━━\u001b[0m\u001b[37m\u001b[0m \u001b[1m9s\u001b[0m 385ms/step - MAE: 0.1050 - loss: 0.0174 - val_MAE: 0.0896 - val_loss: 0.0117\n",
      "Epoch 11/50\n",
      "\u001b[1m24/24\u001b[0m \u001b[32m━━━━━━━━━━━━━━━━━━━━\u001b[0m\u001b[37m\u001b[0m \u001b[1m10s\u001b[0m 374ms/step - MAE: 0.0995 - loss: 0.0157 - val_MAE: 0.0808 - val_loss: 0.0099\n",
      "Epoch 12/50\n",
      "\u001b[1m24/24\u001b[0m \u001b[32m━━━━━━━━━━━━━━━━━━━━\u001b[0m\u001b[37m\u001b[0m \u001b[1m10s\u001b[0m 413ms/step - MAE: 0.0994 - loss: 0.0152 - val_MAE: 0.0741 - val_loss: 0.0086\n",
      "Epoch 13/50\n",
      "\u001b[1m24/24\u001b[0m \u001b[32m━━━━━━━━━━━━━━━━━━━━\u001b[0m\u001b[37m\u001b[0m \u001b[1m11s\u001b[0m 429ms/step - MAE: 0.0947 - loss: 0.0147 - val_MAE: 0.0743 - val_loss: 0.0086\n",
      "Epoch 14/50\n",
      "\u001b[1m24/24\u001b[0m \u001b[32m━━━━━━━━━━━━━━━━━━━━\u001b[0m\u001b[37m\u001b[0m \u001b[1m12s\u001b[0m 493ms/step - MAE: 0.1001 - loss: 0.0150 - val_MAE: 0.0674 - val_loss: 0.0073\n",
      "Epoch 15/50\n",
      "\u001b[1m24/24\u001b[0m \u001b[32m━━━━━━━━━━━━━━━━━━━━\u001b[0m\u001b[37m\u001b[0m \u001b[1m18s\u001b[0m 383ms/step - MAE: 0.0965 - loss: 0.0144 - val_MAE: 0.0670 - val_loss: 0.0073\n",
      "Epoch 16/50\n",
      "\u001b[1m24/24\u001b[0m \u001b[32m━━━━━━━━━━━━━━━━━━━━\u001b[0m\u001b[37m\u001b[0m \u001b[1m10s\u001b[0m 429ms/step - MAE: 0.0965 - loss: 0.0149 - val_MAE: 0.0705 - val_loss: 0.0078\n",
      "Epoch 17/50\n",
      "\u001b[1m24/24\u001b[0m \u001b[32m━━━━━━━━━━━━━━━━━━━━\u001b[0m\u001b[37m\u001b[0m \u001b[1m10s\u001b[0m 418ms/step - MAE: 0.0995 - loss: 0.0155 - val_MAE: 0.0649 - val_loss: 0.0070\n",
      "Epoch 18/50\n",
      "\u001b[1m24/24\u001b[0m \u001b[32m━━━━━━━━━━━━━━━━━━━━\u001b[0m\u001b[37m\u001b[0m \u001b[1m10s\u001b[0m 389ms/step - MAE: 0.0927 - loss: 0.0136 - val_MAE: 0.0640 - val_loss: 0.0068\n",
      "Epoch 19/50\n",
      "\u001b[1m24/24\u001b[0m \u001b[32m━━━━━━━━━━━━━━━━━━━━\u001b[0m\u001b[37m\u001b[0m \u001b[1m9s\u001b[0m 331ms/step - MAE: 0.0890 - loss: 0.0128 - val_MAE: 0.0670 - val_loss: 0.0071\n",
      "Epoch 20/50\n",
      "\u001b[1m24/24\u001b[0m \u001b[32m━━━━━━━━━━━━━━━━━━━━\u001b[0m\u001b[37m\u001b[0m \u001b[1m9s\u001b[0m 389ms/step - MAE: 0.0890 - loss: 0.0122 - val_MAE: 0.0658 - val_loss: 0.0072\n",
      "Epoch 21/50\n",
      "\u001b[1m24/24\u001b[0m \u001b[32m━━━━━━━━━━━━━━━━━━━━\u001b[0m\u001b[37m\u001b[0m \u001b[1m11s\u001b[0m 438ms/step - MAE: 0.1033 - loss: 0.0168 - val_MAE: 0.0672 - val_loss: 0.0077\n",
      "Epoch 22/50\n",
      "\u001b[1m24/24\u001b[0m \u001b[32m━━━━━━━━━━━━━━━━━━━━\u001b[0m\u001b[37m\u001b[0m \u001b[1m19s\u001b[0m 374ms/step - MAE: 0.1000 - loss: 0.0159 - val_MAE: 0.0726 - val_loss: 0.0081\n",
      "Epoch 23/50\n",
      "\u001b[1m24/24\u001b[0m \u001b[32m━━━━━━━━━━━━━━━━━━━━\u001b[0m\u001b[37m\u001b[0m \u001b[1m9s\u001b[0m 335ms/step - MAE: 0.0874 - loss: 0.0121 - val_MAE: 0.0678 - val_loss: 0.0072\n",
      "Epoch 24/50\n",
      "\u001b[1m24/24\u001b[0m \u001b[32m━━━━━━━━━━━━━━━━━━━━\u001b[0m\u001b[37m\u001b[0m \u001b[1m10s\u001b[0m 415ms/step - MAE: 0.0837 - loss: 0.0113 - val_MAE: 0.0615 - val_loss: 0.0061\n",
      "Epoch 25/50\n",
      "\u001b[1m24/24\u001b[0m \u001b[32m━━━━━━━━━━━━━━━━━━━━\u001b[0m\u001b[37m\u001b[0m \u001b[1m9s\u001b[0m 397ms/step - MAE: 0.0807 - loss: 0.0102 - val_MAE: 0.0773 - val_loss: 0.0087\n",
      "Epoch 26/50\n",
      "\u001b[1m24/24\u001b[0m \u001b[32m━━━━━━━━━━━━━━━━━━━━\u001b[0m\u001b[37m\u001b[0m \u001b[1m8s\u001b[0m 336ms/step - MAE: 0.0841 - loss: 0.0111 - val_MAE: 0.0879 - val_loss: 0.0109\n",
      "Epoch 27/50\n",
      "\u001b[1m24/24\u001b[0m \u001b[32m━━━━━━━━━━━━━━━━━━━━\u001b[0m\u001b[37m\u001b[0m \u001b[1m11s\u001b[0m 368ms/step - MAE: 0.0835 - loss: 0.0113 - val_MAE: 0.0841 - val_loss: 0.0100\n",
      "Epoch 28/50\n",
      "\u001b[1m24/24\u001b[0m \u001b[32m━━━━━━━━━━━━━━━━━━━━\u001b[0m\u001b[37m\u001b[0m \u001b[1m11s\u001b[0m 385ms/step - MAE: 0.0924 - loss: 0.0134 - val_MAE: 0.0608 - val_loss: 0.0060\n",
      "Epoch 29/50\n",
      "\u001b[1m24/24\u001b[0m \u001b[32m━━━━━━━━━━━━━━━━━━━━\u001b[0m\u001b[37m\u001b[0m \u001b[1m10s\u001b[0m 385ms/step - MAE: 0.0842 - loss: 0.0107 - val_MAE: 0.0743 - val_loss: 0.0081\n",
      "Epoch 30/50\n",
      "\u001b[1m24/24\u001b[0m \u001b[32m━━━━━━━━━━━━━━━━━━━━\u001b[0m\u001b[37m\u001b[0m \u001b[1m10s\u001b[0m 407ms/step - MAE: 0.0804 - loss: 0.0108 - val_MAE: 0.0601 - val_loss: 0.0058\n",
      "Epoch 31/50\n",
      "\u001b[1m24/24\u001b[0m \u001b[32m━━━━━━━━━━━━━━━━━━━━\u001b[0m\u001b[37m\u001b[0m \u001b[1m9s\u001b[0m 363ms/step - MAE: 0.0788 - loss: 0.0099 - val_MAE: 0.0541 - val_loss: 0.0050\n",
      "Epoch 32/50\n",
      "\u001b[1m24/24\u001b[0m \u001b[32m━━━━━━━━━━━━━━━━━━━━\u001b[0m\u001b[37m\u001b[0m \u001b[1m10s\u001b[0m 343ms/step - MAE: 0.0823 - loss: 0.0101 - val_MAE: 0.0523 - val_loss: 0.0048\n",
      "Epoch 33/50\n",
      "\u001b[1m24/24\u001b[0m \u001b[32m━━━━━━━━━━━━━━━━━━━━\u001b[0m\u001b[37m\u001b[0m \u001b[1m9s\u001b[0m 389ms/step - MAE: 0.0802 - loss: 0.0105 - val_MAE: 0.0533 - val_loss: 0.0050\n",
      "Epoch 34/50\n",
      "\u001b[1m24/24\u001b[0m \u001b[32m━━━━━━━━━━━━━━━━━━━━\u001b[0m\u001b[37m\u001b[0m \u001b[1m9s\u001b[0m 394ms/step - MAE: 0.0818 - loss: 0.0105 - val_MAE: 0.0527 - val_loss: 0.0049\n",
      "Epoch 35/50\n",
      "\u001b[1m24/24\u001b[0m \u001b[32m━━━━━━━━━━━━━━━━━━━━\u001b[0m\u001b[37m\u001b[0m \u001b[1m9s\u001b[0m 352ms/step - MAE: 0.0775 - loss: 0.0096 - val_MAE: 0.0526 - val_loss: 0.0048\n",
      "Epoch 36/50\n",
      "\u001b[1m24/24\u001b[0m \u001b[32m━━━━━━━━━━━━━━━━━━━━\u001b[0m\u001b[37m\u001b[0m \u001b[1m10s\u001b[0m 335ms/step - MAE: 0.0792 - loss: 0.0103 - val_MAE: 0.0586 - val_loss: 0.0055\n",
      "Epoch 37/50\n",
      "\u001b[1m24/24\u001b[0m \u001b[32m━━━━━━━━━━━━━━━━━━━━\u001b[0m\u001b[37m\u001b[0m \u001b[1m11s\u001b[0m 373ms/step - MAE: 0.0757 - loss: 0.0095 - val_MAE: 0.0559 - val_loss: 0.0051\n",
      "Epoch 38/50\n",
      "\u001b[1m24/24\u001b[0m \u001b[32m━━━━━━━━━━━━━━━━━━━━\u001b[0m\u001b[37m\u001b[0m \u001b[1m9s\u001b[0m 386ms/step - MAE: 0.0760 - loss: 0.0095 - val_MAE: 0.0621 - val_loss: 0.0060\n",
      "Epoch 39/50\n",
      "\u001b[1m24/24\u001b[0m \u001b[32m━━━━━━━━━━━━━━━━━━━━\u001b[0m\u001b[37m\u001b[0m \u001b[1m9s\u001b[0m 391ms/step - MAE: 0.0775 - loss: 0.0101 - val_MAE: 0.0734 - val_loss: 0.0078\n",
      "Epoch 40/50\n",
      "\u001b[1m24/24\u001b[0m \u001b[32m━━━━━━━━━━━━━━━━━━━━\u001b[0m\u001b[37m\u001b[0m \u001b[1m10s\u001b[0m 366ms/step - MAE: 0.0751 - loss: 0.0091 - val_MAE: 0.0605 - val_loss: 0.0058\n",
      "Epoch 41/50\n",
      "\u001b[1m24/24\u001b[0m \u001b[32m━━━━━━━━━━━━━━━━━━━━\u001b[0m\u001b[37m\u001b[0m \u001b[1m9s\u001b[0m 355ms/step - MAE: 0.0742 - loss: 0.0089 - val_MAE: 0.0671 - val_loss: 0.0068\n",
      "Epoch 42/50\n",
      "\u001b[1m24/24\u001b[0m \u001b[32m━━━━━━━━━━━━━━━━━━━━\u001b[0m\u001b[37m\u001b[0m \u001b[1m10s\u001b[0m 414ms/step - MAE: 0.0788 - loss: 0.0103 - val_MAE: 0.0703 - val_loss: 0.0072\n",
      "Epoch 43/50\n",
      "\u001b[1m24/24\u001b[0m \u001b[32m━━━━━━━━━━━━━━━━━━━━\u001b[0m\u001b[37m\u001b[0m \u001b[1m10s\u001b[0m 386ms/step - MAE: 0.0791 - loss: 0.0099 - val_MAE: 0.0676 - val_loss: 0.0069\n",
      "Epoch 44/50\n",
      "\u001b[1m24/24\u001b[0m \u001b[32m━━━━━━━━━━━━━━━━━━━━\u001b[0m\u001b[37m\u001b[0m \u001b[1m8s\u001b[0m 335ms/step - MAE: 0.0754 - loss: 0.0095 - val_MAE: 0.0578 - val_loss: 0.0053\n",
      "Epoch 45/50\n",
      "\u001b[1m24/24\u001b[0m \u001b[32m━━━━━━━━━━━━━━━━━━━━\u001b[0m\u001b[37m\u001b[0m \u001b[1m10s\u001b[0m 405ms/step - MAE: 0.0735 - loss: 0.0088 - val_MAE: 0.0582 - val_loss: 0.0054\n",
      "Epoch 46/50\n",
      "\u001b[1m24/24\u001b[0m \u001b[32m━━━━━━━━━━━━━━━━━━━━\u001b[0m\u001b[37m\u001b[0m \u001b[1m11s\u001b[0m 423ms/step - MAE: 0.0724 - loss: 0.0087 - val_MAE: 0.0540 - val_loss: 0.0048\n",
      "Epoch 47/50\n",
      "\u001b[1m24/24\u001b[0m \u001b[32m━━━━━━━━━━━━━━━━━━━━\u001b[0m\u001b[37m\u001b[0m \u001b[1m12s\u001b[0m 495ms/step - MAE: 0.0738 - loss: 0.0087 - val_MAE: 0.0517 - val_loss: 0.0045\n",
      "Epoch 48/50\n",
      "\u001b[1m24/24\u001b[0m \u001b[32m━━━━━━━━━━━━━━━━━━━━\u001b[0m\u001b[37m\u001b[0m \u001b[1m18s\u001b[0m 388ms/step - MAE: 0.0729 - loss: 0.0086 - val_MAE: 0.0558 - val_loss: 0.0050\n",
      "Epoch 49/50\n",
      "\u001b[1m24/24\u001b[0m \u001b[32m━━━━━━━━━━━━━━━━━━━━\u001b[0m\u001b[37m\u001b[0m \u001b[1m10s\u001b[0m 424ms/step - MAE: 0.0705 - loss: 0.0083 - val_MAE: 0.0515 - val_loss: 0.0045\n",
      "Epoch 50/50\n",
      "\u001b[1m24/24\u001b[0m \u001b[32m━━━━━━━━━━━━━━━━━━━━\u001b[0m\u001b[37m\u001b[0m \u001b[1m10s\u001b[0m 419ms/step - MAE: 0.0709 - loss: 0.0081 - val_MAE: 0.0500 - val_loss: 0.0043\n"
     ]
    },
    {
     "data": {
      "text/plain": [
       "<keras.src.callbacks.history.History at 0x786ea01d5d50>"
      ]
     },
     "execution_count": 21,
     "metadata": {},
     "output_type": "execute_result"
    }
   ],
   "source": [
    "model.compile(optimizer = 'adam', loss = 'mean_squared_error', metrics = ['MAE'])\n",
    "model.fit(x_train, y_train, validation_data = (x_test, y_test) ,epochs = 50)"
   ]
  },
  {
   "cell_type": "code",
   "execution_count": 22,
   "id": "hYtEgimYEkkh",
   "metadata": {
    "colab": {
     "base_uri": "https://localhost:8080/"
    },
    "executionInfo": {
     "elapsed": 43,
     "status": "ok",
     "timestamp": 1749636493744,
     "user": {
      "displayName": "Javi Luque",
      "userId": "04690238348256980555"
     },
     "user_tz": -120
    },
    "id": "hYtEgimYEkkh",
    "outputId": "86dd52cc-7354-4cd0-fd91-6716c7389211"
   },
   "outputs": [
    {
     "name": "stdout",
     "output_type": "stream",
     "text": [
      "(762, 100, 1)\n",
      "(762,)\n",
      "(762, 100, 1)\n",
      "(762,)\n"
     ]
    }
   ],
   "source": [
    "print(x_test.shape)\n",
    "print(y_test.shape)\n",
    "print(x_train.shape)\n",
    "print(y_train.shape)"
   ]
  },
  {
   "cell_type": "code",
   "execution_count": 23,
   "id": "AtHUiXWTEvBm",
   "metadata": {
    "colab": {
     "base_uri": "https://localhost:8080/"
    },
    "executionInfo": {
     "elapsed": 6,
     "status": "ok",
     "timestamp": 1749636494816,
     "user": {
      "displayName": "Javi Luque",
      "userId": "04690238348256980555"
     },
     "user_tz": -120
    },
    "id": "AtHUiXWTEvBm",
    "outputId": "c6608721-0122-4184-a769-4c993ecd4614"
   },
   "outputs": [
    {
     "data": {
      "text/plain": [
       "array([[[0.77948393],\n",
       "        [0.76340837],\n",
       "        [0.67305951],\n",
       "        ...,\n",
       "        [0.14377961],\n",
       "        [0.13263805],\n",
       "        [0.1405858 ]],\n",
       "\n",
       "       [[0.76340837],\n",
       "        [0.67305951],\n",
       "        [0.66171602],\n",
       "        ...,\n",
       "        [0.13263805],\n",
       "        [0.1405858 ],\n",
       "        [0.19858013]],\n",
       "\n",
       "       [[0.67305951],\n",
       "        [0.66171602],\n",
       "        [0.62205069],\n",
       "        ...,\n",
       "        [0.1405858 ],\n",
       "        [0.19858013],\n",
       "        [0.25443326]],\n",
       "\n",
       "       ...,\n",
       "\n",
       "       [[0.79311316],\n",
       "        [0.81280586],\n",
       "        [0.86949764],\n",
       "        ...,\n",
       "        [0.75380244],\n",
       "        [0.75567905],\n",
       "        [0.74502004]],\n",
       "\n",
       "       [[0.81280586],\n",
       "        [0.86949764],\n",
       "        [0.9029529 ],\n",
       "        ...,\n",
       "        [0.75567905],\n",
       "        [0.74502004],\n",
       "        [0.76217227]],\n",
       "\n",
       "       [[0.86949764],\n",
       "        [0.9029529 ],\n",
       "        [0.91059907],\n",
       "        ...,\n",
       "        [0.74502004],\n",
       "        [0.76217227],\n",
       "        [0.722238  ]]])"
      ]
     },
     "execution_count": 23,
     "metadata": {},
     "output_type": "execute_result"
    }
   ],
   "source": [
    "x_test"
   ]
  },
  {
   "cell_type": "code",
   "execution_count": 24,
   "id": "yohKM8zjBM01",
   "metadata": {
    "colab": {
     "base_uri": "https://localhost:8080/"
    },
    "executionInfo": {
     "elapsed": 3372,
     "status": "ok",
     "timestamp": 1749636502705,
     "user": {
      "displayName": "Javi Luque",
      "userId": "04690238348256980555"
     },
     "user_tz": -120
    },
    "id": "yohKM8zjBM01",
    "outputId": "e04858bb-35af-4163-e279-1cf5ea62002b"
   },
   "outputs": [
    {
     "name": "stdout",
     "output_type": "stream",
     "text": [
      "\u001b[1m24/24\u001b[0m \u001b[32m━━━━━━━━━━━━━━━━━━━━\u001b[0m\u001b[37m\u001b[0m \u001b[1m3s\u001b[0m 108ms/step\n"
     ]
    }
   ],
   "source": [
    "y_pred = model.predict(x_test)\n",
    "#y_pred_final = scaler.inverse_transform(y_pred)\n"
   ]
  },
  {
   "cell_type": "code",
   "execution_count": null,
   "id": "jt8k7oSEQ1c-",
   "metadata": {
    "colab": {
     "base_uri": "https://localhost:8080/"
    },
    "executionInfo": {
     "elapsed": 8,
     "status": "ok",
     "timestamp": 1749634381058,
     "user": {
      "displayName": "Javi Luque",
      "userId": "04690238348256980555"
     },
     "user_tz": -120
    },
    "id": "jt8k7oSEQ1c-",
    "outputId": "3e712c8f-9cf0-4b72-b9db-0e06bb67a7e3"
   },
   "outputs": [
    {
     "data": {
      "text/plain": [
       "(762, 1)"
      ]
     },
     "execution_count": 23,
     "metadata": {},
     "output_type": "execute_result"
    }
   ],
   "source": [
    "y_pred.shape"
   ]
  },
  {
   "cell_type": "code",
   "execution_count": 27,
   "id": "iPx-NsDfQ57N",
   "metadata": {
    "colab": {
     "base_uri": "https://localhost:8080/"
    },
    "executionInfo": {
     "elapsed": 1,
     "status": "ok",
     "timestamp": 1749635607928,
     "user": {
      "displayName": "Javi Luque",
      "userId": "04690238348256980555"
     },
     "user_tz": -120
    },
    "id": "iPx-NsDfQ57N",
    "outputId": "8a86e46d-b24b-46fb-8dbc-c059874f7a01"
   },
   "outputs": [
    {
     "data": {
      "text/plain": [
       "array([[0.19966353],\n",
       "       [0.19873632],\n",
       "       [0.19814871],\n",
       "       [0.19797723],\n",
       "       [0.19840555],\n",
       "       [0.20001344],\n",
       "       [0.20299724],\n",
       "       [0.2072239 ],\n",
       "       [0.21252866],\n",
       "       [0.21840385],\n",
       "       [0.22404538],\n",
       "       [0.22834288],\n",
       "       [0.23032878],\n",
       "       [0.22997616],\n",
       "       [0.22791426],\n",
       "       [0.2248778 ],\n",
       "       [0.22139722],\n",
       "       [0.2178278 ],\n",
       "       [0.2144054 ],\n",
       "       [0.21126859],\n",
       "       [0.2084962 ],\n",
       "       [0.20613332],\n",
       "       [0.20417164],\n",
       "       [0.20258054],\n",
       "       [0.20130445],\n",
       "       [0.2002937 ],\n",
       "       [0.19951168],\n",
       "       [0.19894095],\n",
       "       [0.1985845 ],\n",
       "       [0.19847628],\n",
       "       [0.19865705],\n",
       "       [0.19909422],\n",
       "       [0.199603  ],\n",
       "       [0.20001574],\n",
       "       [0.20026894],\n",
       "       [0.2003483 ],\n",
       "       [0.20030572],\n",
       "       [0.20022757],\n",
       "       [0.20028095],\n",
       "       [0.2007588 ],\n",
       "       [0.20196994],\n",
       "       [0.20416194],\n",
       "       [0.2076746 ],\n",
       "       [0.21326347],\n",
       "       [0.2217309 ],\n",
       "       [0.23329026],\n",
       "       [0.24761856],\n",
       "       [0.26442873],\n",
       "       [0.28325635],\n",
       "       [0.3034019 ],\n",
       "       [0.32414502],\n",
       "       [0.34457093],\n",
       "       [0.3642841 ],\n",
       "       [0.38276345],\n",
       "       [0.39967978],\n",
       "       [0.41486287],\n",
       "       [0.42808187],\n",
       "       [0.43915325],\n",
       "       [0.44794077],\n",
       "       [0.45386732],\n",
       "       [0.4563989 ],\n",
       "       [0.4552291 ],\n",
       "       [0.4504947 ],\n",
       "       [0.442868  ],\n",
       "       [0.43277913],\n",
       "       [0.42078692],\n",
       "       [0.40744144],\n",
       "       [0.39319712],\n",
       "       [0.3786348 ],\n",
       "       [0.3642251 ],\n",
       "       [0.35052496],\n",
       "       [0.33841592],\n",
       "       [0.32894242],\n",
       "       [0.32320833],\n",
       "       [0.32187814],\n",
       "       [0.3243497 ],\n",
       "       [0.32943356],\n",
       "       [0.33550966],\n",
       "       [0.34117126],\n",
       "       [0.34530932],\n",
       "       [0.34719676],\n",
       "       [0.34633666],\n",
       "       [0.34235972],\n",
       "       [0.33528763],\n",
       "       [0.32549828],\n",
       "       [0.31362307],\n",
       "       [0.30064464],\n",
       "       [0.28746188],\n",
       "       [0.27475   ],\n",
       "       [0.2629752 ],\n",
       "       [0.25250626],\n",
       "       [0.24356796],\n",
       "       [0.23634401],\n",
       "       [0.23064573],\n",
       "       [0.22596155],\n",
       "       [0.22184853],\n",
       "       [0.21816318],\n",
       "       [0.21484306],\n",
       "       [0.2118534 ],\n",
       "       [0.20919064],\n",
       "       [0.20685096],\n",
       "       [0.20481552],\n",
       "       [0.20305894],\n",
       "       [0.20156904],\n",
       "       [0.20032163],\n",
       "       [0.19933176],\n",
       "       [0.19864127],\n",
       "       [0.19840649],\n",
       "       [0.19980116],\n",
       "       [0.20423298],\n",
       "       [0.21243586],\n",
       "       [0.22391377],\n",
       "       [0.23743801],\n",
       "       [0.2518909 ],\n",
       "       [0.26634476],\n",
       "       [0.28020054],\n",
       "       [0.29303002],\n",
       "       [0.30565304],\n",
       "       [0.3190698 ],\n",
       "       [0.33339852],\n",
       "       [0.34856343],\n",
       "       [0.3643644 ],\n",
       "       [0.37998617],\n",
       "       [0.39450866],\n",
       "       [0.40726376],\n",
       "       [0.4181159 ],\n",
       "       [0.42733502],\n",
       "       [0.43537086],\n",
       "       [0.4421608 ],\n",
       "       [0.44728523],\n",
       "       [0.4509781 ],\n",
       "       [0.45402324],\n",
       "       [0.45710987],\n",
       "       [0.46027428],\n",
       "       [0.46319836],\n",
       "       [0.46554726],\n",
       "       [0.46707684],\n",
       "       [0.46748084],\n",
       "       [0.46672428],\n",
       "       [0.46533912],\n",
       "       [0.46356338],\n",
       "       [0.46095353],\n",
       "       [0.45694077],\n",
       "       [0.4509731 ],\n",
       "       [0.44274604],\n",
       "       [0.4326492 ],\n",
       "       [0.42119604],\n",
       "       [0.408961  ],\n",
       "       [0.39643908],\n",
       "       [0.3839563 ],\n",
       "       [0.37218946],\n",
       "       [0.36162388],\n",
       "       [0.35248488],\n",
       "       [0.3452286 ],\n",
       "       [0.33976513],\n",
       "       [0.33605534],\n",
       "       [0.33430463],\n",
       "       [0.33483207],\n",
       "       [0.3381921 ],\n",
       "       [0.34464878],\n",
       "       [0.35407668],\n",
       "       [0.36611736],\n",
       "       [0.380037  ],\n",
       "       [0.39464277],\n",
       "       [0.4092027 ],\n",
       "       [0.4232883 ],\n",
       "       [0.4367336 ],\n",
       "       [0.44910395],\n",
       "       [0.46016675],\n",
       "       [0.46993518],\n",
       "       [0.4781264 ],\n",
       "       [0.48518205],\n",
       "       [0.49223214],\n",
       "       [0.5004531 ],\n",
       "       [0.51055145],\n",
       "       [0.5223858 ],\n",
       "       [0.5355635 ],\n",
       "       [0.5494589 ],\n",
       "       [0.5633609 ],\n",
       "       [0.5764666 ],\n",
       "       [0.5884418 ],\n",
       "       [0.5991532 ],\n",
       "       [0.6087004 ],\n",
       "       [0.61691916],\n",
       "       [0.62337613],\n",
       "       [0.62717205],\n",
       "       [0.62770575],\n",
       "       [0.62496144],\n",
       "       [0.6190887 ],\n",
       "       [0.61070055],\n",
       "       [0.600509  ],\n",
       "       [0.5890911 ],\n",
       "       [0.5770407 ],\n",
       "       [0.5654529 ],\n",
       "       [0.5554959 ],\n",
       "       [0.5477625 ],\n",
       "       [0.5424846 ],\n",
       "       [0.5395692 ],\n",
       "       [0.5383554 ],\n",
       "       [0.53827155],\n",
       "       [0.5394119 ],\n",
       "       [0.541618  ],\n",
       "       [0.5449071 ],\n",
       "       [0.54896367],\n",
       "       [0.5535918 ],\n",
       "       [0.5588866 ],\n",
       "       [0.56470215],\n",
       "       [0.5707794 ],\n",
       "       [0.5767179 ],\n",
       "       [0.58207107],\n",
       "       [0.58657354],\n",
       "       [0.59033686],\n",
       "       [0.593502  ],\n",
       "       [0.596514  ],\n",
       "       [0.5996888 ],\n",
       "       [0.6029795 ],\n",
       "       [0.60586494],\n",
       "       [0.607706  ],\n",
       "       [0.6079177 ],\n",
       "       [0.6062495 ],\n",
       "       [0.60279745],\n",
       "       [0.59822124],\n",
       "       [0.5931924 ],\n",
       "       [0.5882059 ],\n",
       "       [0.5837992 ],\n",
       "       [0.58038706],\n",
       "       [0.5782221 ],\n",
       "       [0.577313  ],\n",
       "       [0.5775171 ],\n",
       "       [0.57657415],\n",
       "       [0.5722421 ],\n",
       "       [0.56331724],\n",
       "       [0.54997724],\n",
       "       [0.5331901 ],\n",
       "       [0.5139894 ],\n",
       "       [0.49328417],\n",
       "       [0.47183323],\n",
       "       [0.45058346],\n",
       "       [0.43041575],\n",
       "       [0.412018  ],\n",
       "       [0.39599687],\n",
       "       [0.38266158],\n",
       "       [0.37210774],\n",
       "       [0.36406422],\n",
       "       [0.3579244 ],\n",
       "       [0.35318732],\n",
       "       [0.34976727],\n",
       "       [0.34761143],\n",
       "       [0.34670556],\n",
       "       [0.3466468 ],\n",
       "       [0.34689397],\n",
       "       [0.34723967],\n",
       "       [0.34787804],\n",
       "       [0.348935  ],\n",
       "       [0.35042644],\n",
       "       [0.3521914 ],\n",
       "       [0.35434413],\n",
       "       [0.3570602 ],\n",
       "       [0.36033094],\n",
       "       [0.36389923],\n",
       "       [0.36767834],\n",
       "       [0.37141514],\n",
       "       [0.3748582 ],\n",
       "       [0.37797213],\n",
       "       [0.38096154],\n",
       "       [0.3840688 ],\n",
       "       [0.38717663],\n",
       "       [0.38995653],\n",
       "       [0.39212352],\n",
       "       [0.39330024],\n",
       "       [0.3931896 ],\n",
       "       [0.3916375 ],\n",
       "       [0.38873774],\n",
       "       [0.38470155],\n",
       "       [0.37979674],\n",
       "       [0.37452823],\n",
       "       [0.36949635],\n",
       "       [0.36520702],\n",
       "       [0.36188102],\n",
       "       [0.35961592],\n",
       "       [0.35863036],\n",
       "       [0.3592062 ],\n",
       "       [0.36176503],\n",
       "       [0.3665036 ],\n",
       "       [0.37329292],\n",
       "       [0.38179904],\n",
       "       [0.39162052],\n",
       "       [0.40241188],\n",
       "       [0.41382664],\n",
       "       [0.42552048],\n",
       "       [0.43687302],\n",
       "       [0.44847596],\n",
       "       [0.46111017],\n",
       "       [0.47518557],\n",
       "       [0.49061   ],\n",
       "       [0.5069039 ],\n",
       "       [0.5233872 ],\n",
       "       [0.53933936],\n",
       "       [0.5541073 ],\n",
       "       [0.5671676 ],\n",
       "       [0.57842964],\n",
       "       [0.58788043],\n",
       "       [0.59553176],\n",
       "       [0.6015189 ],\n",
       "       [0.60609734],\n",
       "       [0.60949063],\n",
       "       [0.6115119 ],\n",
       "       [0.6118756 ],\n",
       "       [0.610205  ],\n",
       "       [0.6063626 ],\n",
       "       [0.600619  ],\n",
       "       [0.59355026],\n",
       "       [0.5860376 ],\n",
       "       [0.5787954 ],\n",
       "       [0.57229716],\n",
       "       [0.5668409 ],\n",
       "       [0.56274176],\n",
       "       [0.56032276],\n",
       "       [0.5597121 ],\n",
       "       [0.5607656 ],\n",
       "       [0.5631691 ],\n",
       "       [0.5665519 ],\n",
       "       [0.57066846],\n",
       "       [0.5749289 ],\n",
       "       [0.57884353],\n",
       "       [0.58178544],\n",
       "       [0.58358514],\n",
       "       [0.58440906],\n",
       "       [0.58429176],\n",
       "       [0.5833827 ],\n",
       "       [0.5820202 ],\n",
       "       [0.5804549 ],\n",
       "       [0.5783134 ],\n",
       "       [0.5751547 ],\n",
       "       [0.5708393 ],\n",
       "       [0.56545186],\n",
       "       [0.5591215 ],\n",
       "       [0.5523418 ],\n",
       "       [0.5454176 ],\n",
       "       [0.5384216 ],\n",
       "       [0.5310848 ],\n",
       "       [0.52337134],\n",
       "       [0.5153098 ],\n",
       "       [0.5074482 ],\n",
       "       [0.5004343 ],\n",
       "       [0.49492317],\n",
       "       [0.49140894],\n",
       "       [0.49000907],\n",
       "       [0.4902895 ],\n",
       "       [0.4917999 ],\n",
       "       [0.49411654],\n",
       "       [0.4965977 ],\n",
       "       [0.49845403],\n",
       "       [0.49890494],\n",
       "       [0.4974318 ],\n",
       "       [0.49389708],\n",
       "       [0.48826593],\n",
       "       [0.48078454],\n",
       "       [0.4717589 ],\n",
       "       [0.4617443 ],\n",
       "       [0.4510911 ],\n",
       "       [0.4401304 ],\n",
       "       [0.42960638],\n",
       "       [0.420547  ],\n",
       "       [0.41373372],\n",
       "       [0.40959078],\n",
       "       [0.40842545],\n",
       "       [0.4102651 ],\n",
       "       [0.4150511 ],\n",
       "       [0.4221726 ],\n",
       "       [0.4312045 ],\n",
       "       [0.4417839 ],\n",
       "       [0.45354277],\n",
       "       [0.46594536],\n",
       "       [0.47842228],\n",
       "       [0.4905193 ],\n",
       "       [0.50184095],\n",
       "       [0.51220554],\n",
       "       [0.5214353 ],\n",
       "       [0.52936226],\n",
       "       [0.53596646],\n",
       "       [0.5411479 ],\n",
       "       [0.5450608 ],\n",
       "       [0.5478734 ],\n",
       "       [0.5497052 ],\n",
       "       [0.55044365],\n",
       "       [0.5498235 ],\n",
       "       [0.5476598 ],\n",
       "       [0.5442436 ],\n",
       "       [0.5402911 ],\n",
       "       [0.5370792 ],\n",
       "       [0.5355456 ],\n",
       "       [0.5358744 ],\n",
       "       [0.5378832 ],\n",
       "       [0.5414653 ],\n",
       "       [0.54635054],\n",
       "       [0.5524957 ],\n",
       "       [0.5600108 ],\n",
       "       [0.56885016],\n",
       "       [0.57888883],\n",
       "       [0.58995515],\n",
       "       [0.6016503 ],\n",
       "       [0.6132518 ],\n",
       "       [0.62391347],\n",
       "       [0.63321644],\n",
       "       [0.64036256],\n",
       "       [0.64492446],\n",
       "       [0.6467398 ],\n",
       "       [0.6461597 ],\n",
       "       [0.6438555 ],\n",
       "       [0.6403976 ],\n",
       "       [0.6361937 ],\n",
       "       [0.6314503 ],\n",
       "       [0.62657636],\n",
       "       [0.6221778 ],\n",
       "       [0.6191029 ],\n",
       "       [0.61785024],\n",
       "       [0.618426  ],\n",
       "       [0.62047696],\n",
       "       [0.62337875],\n",
       "       [0.62654847],\n",
       "       [0.63071245],\n",
       "       [0.63655716],\n",
       "       [0.6445398 ],\n",
       "       [0.6545128 ],\n",
       "       [0.6657743 ],\n",
       "       [0.6774681 ],\n",
       "       [0.68901575],\n",
       "       [0.699882  ],\n",
       "       [0.7098327 ],\n",
       "       [0.71870655],\n",
       "       [0.7260444 ],\n",
       "       [0.7314275 ],\n",
       "       [0.73476434],\n",
       "       [0.7359713 ],\n",
       "       [0.7348038 ],\n",
       "       [0.73122096],\n",
       "       [0.725704  ],\n",
       "       [0.7190231 ],\n",
       "       [0.7119356 ],\n",
       "       [0.70476955],\n",
       "       [0.69802064],\n",
       "       [0.6918908 ],\n",
       "       [0.6865974 ],\n",
       "       [0.6820654 ],\n",
       "       [0.6779137 ],\n",
       "       [0.6737757 ],\n",
       "       [0.669447  ],\n",
       "       [0.6649223 ],\n",
       "       [0.6606914 ],\n",
       "       [0.6572979 ],\n",
       "       [0.6548776 ],\n",
       "       [0.65324026],\n",
       "       [0.6518671 ],\n",
       "       [0.65046006],\n",
       "       [0.64929   ],\n",
       "       [0.64854544],\n",
       "       [0.64846253],\n",
       "       [0.6488622 ],\n",
       "       [0.64941484],\n",
       "       [0.6498326 ],\n",
       "       [0.6500848 ],\n",
       "       [0.6503318 ],\n",
       "       [0.650575  ],\n",
       "       [0.65040255],\n",
       "       [0.64937615],\n",
       "       [0.6470532 ],\n",
       "       [0.6434939 ],\n",
       "       [0.63919073],\n",
       "       [0.63487244],\n",
       "       [0.6305314 ],\n",
       "       [0.6260537 ],\n",
       "       [0.6211347 ],\n",
       "       [0.6152104 ],\n",
       "       [0.6079516 ],\n",
       "       [0.59928524],\n",
       "       [0.5892444 ],\n",
       "       [0.5781678 ],\n",
       "       [0.5666713 ],\n",
       "       [0.5537132 ],\n",
       "       [0.5387433 ],\n",
       "       [0.5217398 ],\n",
       "       [0.5033969 ],\n",
       "       [0.4845612 ],\n",
       "       [0.46584266],\n",
       "       [0.44782728],\n",
       "       [0.43098265],\n",
       "       [0.41566712],\n",
       "       [0.402326  ],\n",
       "       [0.39127946],\n",
       "       [0.38262188],\n",
       "       [0.37657517],\n",
       "       [0.37329042],\n",
       "       [0.37271887],\n",
       "       [0.37465954],\n",
       "       [0.37878937],\n",
       "       [0.38490856],\n",
       "       [0.39294505],\n",
       "       [0.40288627],\n",
       "       [0.41433227],\n",
       "       [0.42662215],\n",
       "       [0.43863672],\n",
       "       [0.4494304 ],\n",
       "       [0.45844573],\n",
       "       [0.46528357],\n",
       "       [0.4697957 ],\n",
       "       [0.4722253 ],\n",
       "       [0.472852  ],\n",
       "       [0.47208107],\n",
       "       [0.47047675],\n",
       "       [0.46841437],\n",
       "       [0.46611774],\n",
       "       [0.46352273],\n",
       "       [0.4605512 ],\n",
       "       [0.4572804 ],\n",
       "       [0.45375717],\n",
       "       [0.44995338],\n",
       "       [0.44599193],\n",
       "       [0.44182342],\n",
       "       [0.43758237],\n",
       "       [0.4335575 ],\n",
       "       [0.4301105 ],\n",
       "       [0.4275071 ],\n",
       "       [0.4258238 ],\n",
       "       [0.42500788],\n",
       "       [0.42478573],\n",
       "       [0.42478663],\n",
       "       [0.42504084],\n",
       "       [0.4256575 ],\n",
       "       [0.426836  ],\n",
       "       [0.42861456],\n",
       "       [0.43082672],\n",
       "       [0.4332382 ],\n",
       "       [0.43575507],\n",
       "       [0.43855947],\n",
       "       [0.44180614],\n",
       "       [0.44572908],\n",
       "       [0.45032084],\n",
       "       [0.4552588 ],\n",
       "       [0.460073  ],\n",
       "       [0.46463454],\n",
       "       [0.4699645 ],\n",
       "       [0.4767878 ],\n",
       "       [0.48544985],\n",
       "       [0.49594867],\n",
       "       [0.50801283],\n",
       "       [0.5212461 ],\n",
       "       [0.5350136 ],\n",
       "       [0.5488208 ],\n",
       "       [0.5620429 ],\n",
       "       [0.573505  ],\n",
       "       [0.58245414],\n",
       "       [0.5885143 ],\n",
       "       [0.59186894],\n",
       "       [0.5930585 ],\n",
       "       [0.5926737 ],\n",
       "       [0.5916717 ],\n",
       "       [0.5911092 ],\n",
       "       [0.59193486],\n",
       "       [0.59467745],\n",
       "       [0.5994178 ],\n",
       "       [0.6059682 ],\n",
       "       [0.6138992 ],\n",
       "       [0.62275344],\n",
       "       [0.63222116],\n",
       "       [0.64210576],\n",
       "       [0.6524077 ],\n",
       "       [0.66297024],\n",
       "       [0.67359287],\n",
       "       [0.6839989 ],\n",
       "       [0.69373316],\n",
       "       [0.70235866],\n",
       "       [0.7095151 ],\n",
       "       [0.7147259 ],\n",
       "       [0.7176223 ],\n",
       "       [0.718242  ],\n",
       "       [0.71687037],\n",
       "       [0.7138715 ],\n",
       "       [0.7097408 ],\n",
       "       [0.7051273 ],\n",
       "       [0.700292  ],\n",
       "       [0.69523704],\n",
       "       [0.690063  ],\n",
       "       [0.6847976 ],\n",
       "       [0.6797635 ],\n",
       "       [0.6753108 ],\n",
       "       [0.6717487 ],\n",
       "       [0.6693857 ],\n",
       "       [0.66857255],\n",
       "       [0.66964287],\n",
       "       [0.6725156 ],\n",
       "       [0.67722565],\n",
       "       [0.6835962 ],\n",
       "       [0.6913207 ],\n",
       "       [0.69987077],\n",
       "       [0.7089762 ],\n",
       "       [0.71857744],\n",
       "       [0.7284673 ],\n",
       "       [0.7385172 ],\n",
       "       [0.748605  ],\n",
       "       [0.7587086 ],\n",
       "       [0.7686164 ],\n",
       "       [0.77802825],\n",
       "       [0.78671944],\n",
       "       [0.7944283 ],\n",
       "       [0.8009797 ],\n",
       "       [0.8060799 ],\n",
       "       [0.8093903 ],\n",
       "       [0.81073624],\n",
       "       [0.8103249 ],\n",
       "       [0.8080887 ],\n",
       "       [0.8037752 ],\n",
       "       [0.7973985 ],\n",
       "       [0.78942204],\n",
       "       [0.7807984 ],\n",
       "       [0.7724553 ],\n",
       "       [0.76470053],\n",
       "       [0.75764996],\n",
       "       [0.75184226],\n",
       "       [0.7477755 ],\n",
       "       [0.74585634],\n",
       "       [0.74638265],\n",
       "       [0.7492504 ],\n",
       "       [0.75384474],\n",
       "       [0.75941634],\n",
       "       [0.765374  ],\n",
       "       [0.77086043],\n",
       "       [0.7751754 ],\n",
       "       [0.77812845],\n",
       "       [0.77987546],\n",
       "       [0.780945  ],\n",
       "       [0.78193194],\n",
       "       [0.78339404],\n",
       "       [0.7856366 ],\n",
       "       [0.78871614],\n",
       "       [0.7927096 ],\n",
       "       [0.7974256 ],\n",
       "       [0.8027525 ],\n",
       "       [0.80857044],\n",
       "       [0.8149733 ],\n",
       "       [0.8220019 ],\n",
       "       [0.82973665],\n",
       "       [0.8378562 ],\n",
       "       [0.8457771 ],\n",
       "       [0.8527947 ],\n",
       "       [0.8580175 ],\n",
       "       [0.8609336 ],\n",
       "       [0.86152154],\n",
       "       [0.86006683],\n",
       "       [0.85707146],\n",
       "       [0.85316753],\n",
       "       [0.84890276],\n",
       "       [0.84445214],\n",
       "       [0.83989996],\n",
       "       [0.83524334],\n",
       "       [0.830609  ],\n",
       "       [0.8260319 ],\n",
       "       [0.82141644],\n",
       "       [0.8169778 ],\n",
       "       [0.812288  ],\n",
       "       [0.8070454 ],\n",
       "       [0.80128706],\n",
       "       [0.79563487],\n",
       "       [0.7909495 ],\n",
       "       [0.7879408 ],\n",
       "       [0.78708595],\n",
       "       [0.788404  ],\n",
       "       [0.79169816],\n",
       "       [0.796714  ],\n",
       "       [0.8031644 ],\n",
       "       [0.8107996 ],\n",
       "       [0.8184362 ],\n",
       "       [0.8248646 ],\n",
       "       [0.829384  ],\n",
       "       [0.8313711 ],\n",
       "       [0.8305903 ],\n",
       "       [0.82711536],\n",
       "       [0.82146525],\n",
       "       [0.81409854],\n",
       "       [0.8056404 ],\n",
       "       [0.7965446 ],\n",
       "       [0.7870809 ],\n",
       "       [0.7774879 ],\n",
       "       [0.76807564],\n",
       "       [0.759152  ],\n",
       "       [0.7510559 ],\n",
       "       [0.7440408 ],\n",
       "       [0.7383501 ],\n",
       "       [0.73396474],\n",
       "       [0.73103446],\n",
       "       [0.7294939 ],\n",
       "       [0.72920924],\n",
       "       [0.7302205 ],\n",
       "       [0.73245656],\n",
       "       [0.7351852 ],\n",
       "       [0.7377984 ],\n",
       "       [0.7396963 ],\n",
       "       [0.7403315 ],\n",
       "       [0.73895305],\n",
       "       [0.7350529 ],\n",
       "       [0.7286288 ],\n",
       "       [0.7199461 ],\n",
       "       [0.7098605 ],\n",
       "       [0.6996696 ],\n",
       "       [0.69062954],\n",
       "       [0.68365484],\n",
       "       [0.6790567 ],\n",
       "       [0.6766751 ],\n",
       "       [0.6762305 ],\n",
       "       [0.677551  ],\n",
       "       [0.68028075],\n",
       "       [0.6839065 ],\n",
       "       [0.68774045],\n",
       "       [0.69138205],\n",
       "       [0.6946505 ],\n",
       "       [0.6977056 ],\n",
       "       [0.6998958 ],\n",
       "       [0.699508  ],\n",
       "       [0.6952689 ],\n",
       "       [0.68670326],\n",
       "       [0.67511904],\n",
       "       [0.6616865 ],\n",
       "       [0.6478722 ],\n",
       "       [0.6352574 ],\n",
       "       [0.62518114],\n",
       "       [0.6180314 ],\n",
       "       [0.6138041 ],\n",
       "       [0.6118039 ],\n",
       "       [0.6113488 ],\n",
       "       [0.6116914 ],\n",
       "       [0.61214703],\n",
       "       [0.6123784 ],\n",
       "       [0.6122468 ],\n",
       "       [0.6119077 ],\n",
       "       [0.61171144],\n",
       "       [0.6119867 ],\n",
       "       [0.6131934 ],\n",
       "       [0.6154539 ],\n",
       "       [0.6185476 ],\n",
       "       [0.62232083],\n",
       "       [0.62673014],\n",
       "       [0.63166296],\n",
       "       [0.6372587 ],\n",
       "       [0.64346606],\n",
       "       [0.650179  ],\n",
       "       [0.6574376 ],\n",
       "       [0.66517407],\n",
       "       [0.67322975],\n",
       "       [0.6813439 ],\n",
       "       [0.6889407 ],\n",
       "       [0.6955983 ],\n",
       "       [0.7009283 ],\n",
       "       [0.70492387],\n",
       "       [0.7076403 ],\n",
       "       [0.7092957 ],\n",
       "       [0.71009725],\n",
       "       [0.7102501 ],\n",
       "       [0.70999837],\n",
       "       [0.70956725],\n",
       "       [0.7090541 ],\n",
       "       [0.7086213 ],\n",
       "       [0.7081209 ]], dtype=float32)"
      ]
     },
     "execution_count": 27,
     "metadata": {},
     "output_type": "execute_result"
    }
   ],
   "source": [
    "y_pred"
   ]
  },
  {
   "cell_type": "code",
   "execution_count": 25,
   "id": "TMafqRpFRN3U",
   "metadata": {
    "colab": {
     "base_uri": "https://localhost:8080/"
    },
    "executionInfo": {
     "elapsed": 7,
     "status": "ok",
     "timestamp": 1749636507609,
     "user": {
      "displayName": "Javi Luque",
      "userId": "04690238348256980555"
     },
     "user_tz": -120
    },
    "id": "TMafqRpFRN3U",
    "outputId": "a9c33547-bb00-4dde-900a-b89ea7b09364"
   },
   "outputs": [
    {
     "data": {
      "text/plain": [
       "array([0.00375322])"
      ]
     },
     "execution_count": 25,
     "metadata": {},
     "output_type": "execute_result"
    }
   ],
   "source": [
    "scaler.scale_"
   ]
  },
  {
   "cell_type": "code",
   "execution_count": 26,
   "id": "T4GndRtwWEEj",
   "metadata": {
    "executionInfo": {
     "elapsed": 5,
     "status": "ok",
     "timestamp": 1749636522384,
     "user": {
      "displayName": "Javi Luque",
      "userId": "04690238348256980555"
     },
     "user_tz": -120
    },
    "id": "T4GndRtwWEEj"
   },
   "outputs": [],
   "source": [
    "scale_factor = 1/0.00375322\n",
    "y_pred = y_pred * scale_factor\n",
    "y_test = y_test * scale_factor"
   ]
  },
  {
   "cell_type": "markdown",
   "id": "7049a3c7-ee0e-4272-af99-b077fafa1dfd",
   "metadata": {
    "id": "7049a3c7-ee0e-4272-af99-b077fafa1dfd"
   },
   "source": []
  },
  {
   "cell_type": "code",
   "execution_count": 28,
   "id": "NqID68JhT3Ss",
   "metadata": {
    "colab": {
     "base_uri": "https://localhost:8080/",
     "height": 542
    },
    "executionInfo": {
     "elapsed": 309,
     "status": "ok",
     "timestamp": 1749636533288,
     "user": {
      "displayName": "Javi Luque",
      "userId": "04690238348256980555"
     },
     "user_tz": -120
    },
    "id": "NqID68JhT3Ss",
    "outputId": "d2244de3-962a-48a8-e587-b67569f9b943"
   },
   "outputs": [
    {
     "data": {
      "image/png": "[encoded data removed]",
      "text/plain": [
       "<Figure size 1200x600 with 1 Axes>"
      ]
     },
     "metadata": {},
     "output_type": "display_data"
    }
   ],
   "source": [
    "plt.figure(figsize = (12,6))\n",
    "plt.plot(y_test, 'b', label = \"Original Price\")\n",
    "plt.plot(y_pred, 'r', label = \"Predicted Price\", linestyle='--')\n",
    "plt.xlabel('Tiempo')\n",
    "plt.ylabel('Precio')\n",
    "plt.legend()\n",
    "plt.show()"
   ]
  },
  {
   "cell_type": "markdown",
   "id": "ac517080-204c-4247-9c94-1ddf4188d34f",
   "metadata": {
    "id": "ac517080-204c-4247-9c94-1ddf4188d34f"
   },
   "source": [
    "Entrenamiento por varias épocas, observando la reducción de la pérdida en lo conjuntos para evitar sobreajuste."
   ]
  },
  {
   "cell_type": "markdown",
   "id": "e380ba71-4385-4663-8a6a-9ac798d2437e",
   "metadata": {
    "id": "e380ba71-4385-4663-8a6a-9ac798d2437e"
   },
   "source": [
    "# Evaluación del modelo"
   ]
  },
  {
   "cell_type": "code",
   "execution_count": 29,
   "id": "183935a3-8e69-437c-9baf-93093f44fa5a",
   "metadata": {
    "colab": {
     "base_uri": "https://localhost:8080/"
    },
    "executionInfo": {
     "elapsed": 206,
     "status": "ok",
     "timestamp": 1749636545995,
     "user": {
      "displayName": "Javi Luque",
      "userId": "04690238348256980555"
     },
     "user_tz": -120
    },
    "id": "183935a3-8e69-437c-9baf-93093f44fa5a",
    "outputId": "69af2b6f-c71b-41aa-c645-1d766408f697"
   },
   "outputs": [
    {
     "name": "stdout",
     "output_type": "stream",
     "text": [
      "Mean Absolute Error (MAE): 13.327940551480117\n",
      "Root Mean Squared Error (RMSE): 17.381727905606024\n"
     ]
    }
   ],
   "source": [
    "from sklearn.metrics import mean_absolute_error, mean_squared_error\n",
    "\n",
    "actual = y_test\n",
    "predicted = y_pred\n",
    "\n",
    "mae = mean_absolute_error(actual, predicted)\n",
    "print(\"Mean Absolute Error (MAE):\", mae)\n",
    "\n",
    "rmse = np.sqrt(mean_squared_error(actual, predicted))\n",
    "print(\"Root Mean Squared Error (RMSE):\", rmse)"
   ]
  },
  {
   "cell_type": "markdown",
   "id": "d5ce9e40-bbb4-4083-82cf-7fa144c91292",
   "metadata": {
    "id": "d5ce9e40-bbb4-4083-82cf-7fa144c91292"
   },
   "source": [
    "# Mean Absolute Error (MAE) = 13.33\n",
    "El modelo se equivoca en 13.33 unidades del precio al predecir.\n",
    "\n",
    "Considerando que el precio de las acciones está entre 0 y 300, creo que puede ser un resultado aceptable, aunque puede mejorar."
   ]
  },
  {
   "cell_type": "markdown",
   "id": "0e6e727e-3678-4ea1-860f-997d97bf0a2f",
   "metadata": {
    "id": "0e6e727e-3678-4ea1-860f-997d97bf0a2f"
   },
   "source": [
    "# Root Mean Squared Error (RMSE) = 17.38\n",
    "RMSE calcula el error promedio pero da más peso a errores grandes, porque se basa en el cuadrado del error.\n",
    "\n",
    "Por eso vemos que cuando hay errores grandes, su impacto es mayor en esta métrica."
   ]
  },
  {
   "cell_type": "code",
   "execution_count": null,
   "id": "6d5e2d6e-e119-4546-93b0-2c05b385ec93",
   "metadata": {
    "executionInfo": {
     "elapsed": 0,
     "status": "aborted",
     "timestamp": 1749635607946,
     "user": {
      "displayName": "Javi Luque",
      "userId": "04690238348256980555"
     },
     "user_tz": -120
    },
    "id": "6d5e2d6e-e119-4546-93b0-2c05b385ec93"
   },
   "outputs": [],
   "source": []
  },
  {
   "cell_type": "markdown",
   "id": "73e1b715-7a3e-4034-938d-0b2bedfc5883",
   "metadata": {
    "executionInfo": {
     "elapsed": 0,
     "status": "aborted",
     "timestamp": 1749635607968,
     "user": {
      "displayName": "Javi Luque",
      "userId": "04690238348256980555"
     },
     "user_tz": -120
    },
    "id": "5cba3dc1-87bd-47f9-a52c-61a946de8763"
   },
   "source": [
    "---Esto es una prueba---"
   ]
  }
 ],
 "metadata": {
  "accelerator": "GPU",
  "colab": {
   "gpuType": "T4",
   "provenance": []
  },
  "kernelspec": {
   "display_name": "Python 3 (ipykernel)",
   "language": "python",
   "name": "python3"
  },
  "language_info": {
   "codemirror_mode": {
    "name": "ipython",
    "version": 3
   },
   "file_extension": ".py",
   "mimetype": "text/x-python",
   "name": "python",
   "nbconvert_exporter": "python",
   "pygments_lexer": "ipython3",
   "version": "3.12.7"
  }
 },
 "nbformat": 4,
 "nbformat_minor": 5
}
